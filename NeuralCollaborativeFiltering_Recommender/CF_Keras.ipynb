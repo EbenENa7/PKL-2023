{
  "nbformat": 4,
  "nbformat_minor": 0,
  "metadata": {
    "colab": {
      "provenance": [],
      "collapsed_sections": [
        "nBFxRCpaFsUh",
        "PCKk4dtDEc87",
        "Y3AUCL-vEiuS",
        "-YiZpTWyEotC",
        "NY1K2uztErl0",
        "9JjUTTNVEvJH",
        "J-ost3x7E0Ci",
        "l_U1nUCOE5wM",
        "MHtpTfeEFLQX",
        "AelCVoW4FSCc"
      ],
      "toc_visible": true
    },
    "kernelspec": {
      "name": "python3",
      "display_name": "Python 3"
    },
    "language_info": {
      "name": "python"
    }
  },
  "cells": [
    {
      "cell_type": "markdown",
      "source": [
        "### Prepare"
      ],
      "metadata": {
        "id": "nBFxRCpaFsUh"
      }
    },
    {
      "cell_type": "code",
      "execution_count": null,
      "metadata": {
        "id": "YMUllWmi8O4e"
      },
      "outputs": [],
      "source": [
        "%matplotlib inline\n",
        "import numpy as np\n",
        "import pandas as pd\n",
        "from sklearn.model_selection import train_test_split\n",
        "from sklearn.preprocessing import LabelEncoder"
      ]
    },
    {
      "cell_type": "code",
      "source": [
        "from keras.models import Model,Sequential\n",
        "from keras.layers import Input, Reshape, Dot, Embedding, Flatten\n",
        "from keras.layers import Concatenate, Dense, Dropout, Embedding\n",
        "from keras.layers import Add, Activation, Lambda\n",
        "import tensorflow as tf\n",
        "from tensorflow import keras\n",
        "from tensorflow.keras import layers\n",
        "from pathlib import Path\n",
        "import matplotlib.pyplot as plt\n",
        "from tensorflow.keras.callbacks import ReduceLROnPlateau\n",
        "# from keras.layers.embeddings import Embedding\n",
        "from keras.optimizers import Adam\n",
        "from keras.regularizers import l2"
      ],
      "metadata": {
        "id": "6YI0_Kru8e7X"
      },
      "execution_count": null,
      "outputs": []
    },
    {
      "cell_type": "code",
      "source": [
        "data = pd.read_csv('/content/drive/MyDrive/PKL-JTK-Eben/FIX REC/movie.csv')"
      ],
      "metadata": {
        "id": "NVIbRhiw81AZ"
      },
      "execution_count": null,
      "outputs": []
    },
    {
      "cell_type": "code",
      "source": [
        "user_enc = LabelEncoder()\n",
        "data['user'] = user_enc.fit_transform(data['userId'].values)\n",
        "n_users = data['user'].nunique()\n",
        "item_enc = LabelEncoder()\n",
        "data['movie'] = item_enc.fit_transform(data['movieId'].values)\n",
        "n_movies = data['movie'].nunique()"
      ],
      "metadata": {
        "id": "pbHFT-Wa9HAl"
      },
      "execution_count": null,
      "outputs": []
    },
    {
      "cell_type": "code",
      "source": [
        "data['rating'] = data['rating'].values.astype(np.float32)\n",
        "min_rating = min(data['rating'])\n",
        "max_rating = max(data['rating'])"
      ],
      "metadata": {
        "id": "wGSAIN9D80pi"
      },
      "execution_count": null,
      "outputs": []
    },
    {
      "cell_type": "code",
      "source": [
        "X = data[['user', 'movie']].values\n",
        "y = data['rating'].values\n",
        "X_train, X_test, y_train, y_test = train_test_split(X, y, test_size=0.1, random_state=42)"
      ],
      "metadata": {
        "id": "3Pz6WZaA9XKh"
      },
      "execution_count": null,
      "outputs": []
    },
    {
      "cell_type": "code",
      "source": [
        "n_factors = 200\n",
        "X_train_array = [X_train[:, 0], X_train[:, 1]]\n",
        "X_test_array = [X_test[:, 0], X_test[:, 1]]"
      ],
      "metadata": {
        "id": "K92ik6pN981V"
      },
      "execution_count": null,
      "outputs": []
    },
    {
      "cell_type": "code",
      "source": [
        "num_users = len(data.userId.unique())\n",
        "num_movies = len(data.movieId.unique())"
      ],
      "metadata": {
        "id": "mxEiTj9CFrf8"
      },
      "execution_count": null,
      "outputs": []
    },
    {
      "cell_type": "code",
      "source": [
        "EMBEDDING_SIZE = 100"
      ],
      "metadata": {
        "id": "_TuWUN5xgJ48"
      },
      "execution_count": null,
      "outputs": []
    },
    {
      "cell_type": "markdown",
      "source": [
        "### ModelV1"
      ],
      "metadata": {
        "id": "PCKk4dtDEc87"
      }
    },
    {
      "cell_type": "code",
      "source": [
        "def RecommenderV1(n_users, n_movies, n_factors):\n",
        "    user = Input(shape=(1,))\n",
        "    u = Embedding(n_users, n_factors, embeddings_initializer='he_normal',\n",
        "                  embeddings_regularizer=l2(1e-6))(user)\n",
        "    u = Reshape((n_factors,))(u)\n",
        "\n",
        "    movie = Input(shape=(1,))\n",
        "    m = Embedding(n_movies, n_factors, embeddings_initializer='he_normal',\n",
        "                  embeddings_regularizer=l2(1e-6))(movie)\n",
        "    m = Reshape((n_factors,))(m)\n",
        "\n",
        "    x = Dot(axes=1)([u, m])\n",
        "    model = Model(inputs=[user, movie], outputs=x)\n",
        "    opt = Adam(lr=0.001)\n",
        "    model.compile(loss='mean_squared_error', optimizer=opt)\n",
        "    return model"
      ],
      "metadata": {
        "id": "4qDmuDJv8pSH"
      },
      "execution_count": null,
      "outputs": []
    },
    {
      "cell_type": "code",
      "source": [
        "model = RecommenderV1(n_users, n_movies, n_factors)\n",
        "model.summary()"
      ],
      "metadata": {
        "colab": {
          "base_uri": "https://localhost:8080/"
        },
        "id": "JqFCLVn18rAr",
        "outputId": "994ded9b-dcb9-472e-97da-2fe8b4daa627"
      },
      "execution_count": null,
      "outputs": [
        {
          "output_type": "stream",
          "name": "stdout",
          "text": [
            "Model: \"model_18\"\n",
            "__________________________________________________________________________________________________\n",
            " Layer (type)                   Output Shape         Param #     Connected to                     \n",
            "==================================================================================================\n",
            " input_35 (InputLayer)          [(None, 1)]          0           []                               \n",
            "                                                                                                  \n",
            " input_36 (InputLayer)          [(None, 1)]          0           []                               \n",
            "                                                                                                  \n",
            " embedding_50 (Embedding)       (None, 1, 200)       134200      ['input_35[0][0]']               \n",
            "                                                                                                  \n",
            " embedding_51 (Embedding)       (None, 1, 200)       357200      ['input_36[0][0]']               \n",
            "                                                                                                  \n",
            " reshape_30 (Reshape)           (None, 200)          0           ['embedding_50[0][0]']           \n",
            "                                                                                                  \n",
            " reshape_31 (Reshape)           (None, 200)          0           ['embedding_51[0][0]']           \n",
            "                                                                                                  \n",
            " dot_10 (Dot)                   (None, 1)            0           ['reshape_30[0][0]',             \n",
            "                                                                  'reshape_31[0][0]']             \n",
            "                                                                                                  \n",
            "==================================================================================================\n",
            "Total params: 491,400\n",
            "Trainable params: 491,400\n",
            "Non-trainable params: 0\n",
            "__________________________________________________________________________________________________\n"
          ]
        },
        {
          "output_type": "stream",
          "name": "stderr",
          "text": [
            "/usr/local/lib/python3.10/dist-packages/keras/optimizers/legacy/adam.py:117: UserWarning: The `lr` argument is deprecated, use `learning_rate` instead.\n",
            "  super().__init__(name, **kwargs)\n"
          ]
        }
      ]
    },
    {
      "cell_type": "code",
      "source": [
        "# history = model.fit(x=X_train_array, y=y_train, batch_size=64, epochs=20,\n",
        "#                     verbose=1, validation_data=(X_test_array, y_test))"
      ],
      "metadata": {
        "id": "i1EKhZoT-AbG"
      },
      "execution_count": null,
      "outputs": []
    },
    {
      "cell_type": "markdown",
      "source": [
        "### ModelV2"
      ],
      "metadata": {
        "id": "Y3AUCL-vEiuS"
      }
    },
    {
      "cell_type": "code",
      "source": [
        "# import matplotlib.pyplot as plt\n",
        "# plt.plot(history.history['loss'], label='Training Loss')\n",
        "# plt.plot(history.history['val_loss'], label='Validation Loss')\n",
        "# plt.xlabel('Epoch')\n",
        "# plt.ylabel('Loss')\n",
        "# plt.legend()\n",
        "# plt.show()\n"
      ],
      "metadata": {
        "id": "QTdHfFNx-gKU"
      },
      "execution_count": null,
      "outputs": []
    },
    {
      "cell_type": "markdown",
      "source": [
        "### ModelV3"
      ],
      "metadata": {
        "id": "-YiZpTWyEotC"
      }
    },
    {
      "cell_type": "code",
      "source": [
        "\n",
        "class EmbeddingLayer:\n",
        "    def __init__(self, n_items, n_factors):\n",
        "        self.n_items = n_items\n",
        "        self.n_factors = n_factors\n",
        "\n",
        "    def __call__(self, x):\n",
        "        x = Embedding(self.n_items, self.n_factors, embeddings_initializer='he_normal',\n",
        "                      embeddings_regularizer=l2(1e-6))(x)\n",
        "        x = Reshape((self.n_factors,))(x)\n",
        "        return x\n",
        "def RecommenderV2(n_users, n_movies, n_factors, min_rating, max_rating):\n",
        "    user = Input(shape=(1,))\n",
        "    u = EmbeddingLayer(n_users, n_factors)(user)\n",
        "    ub = EmbeddingLayer(n_users, 1)(user)\n",
        "\n",
        "    movie = Input(shape=(1,))\n",
        "    m = EmbeddingLayer(n_movies, n_factors)(movie)\n",
        "    mb = EmbeddingLayer(n_movies, 1)(movie)\n",
        "    x = Dot(axes=1)([u, m])\n",
        "    x = Add()([x, ub, mb])\n",
        "    x = Activation('sigmoid')(x)\n",
        "    x = Lambda(lambda x: x * (max_rating - min_rating) + min_rating)(x)\n",
        "    model = Model(inputs=[user, movie], outputs=x)\n",
        "    opt = Adam(lr=0.001)\n",
        "    model.compile(loss='mean_squared_error', optimizer=opt)\n",
        "    return model"
      ],
      "metadata": {
        "id": "zv-SVw7k-KQ3"
      },
      "execution_count": null,
      "outputs": []
    },
    {
      "cell_type": "code",
      "source": [
        "model = RecommenderV2(n_users, n_movies, n_factors, min_rating, max_rating)\n",
        "model.summary()"
      ],
      "metadata": {
        "colab": {
          "base_uri": "https://localhost:8080/"
        },
        "id": "tCqP8wjn-M3O",
        "outputId": "c6b5436b-5aec-433d-a52b-7e31f2989e42"
      },
      "execution_count": null,
      "outputs": [
        {
          "output_type": "stream",
          "name": "stdout",
          "text": [
            "Model: \"model_19\"\n",
            "__________________________________________________________________________________________________\n",
            " Layer (type)                   Output Shape         Param #     Connected to                     \n",
            "==================================================================================================\n",
            " input_37 (InputLayer)          [(None, 1)]          0           []                               \n",
            "                                                                                                  \n",
            " input_38 (InputLayer)          [(None, 1)]          0           []                               \n",
            "                                                                                                  \n",
            " embedding_52 (Embedding)       (None, 1, 200)       134200      ['input_37[0][0]']               \n",
            "                                                                                                  \n",
            " embedding_54 (Embedding)       (None, 1, 200)       357200      ['input_38[0][0]']               \n",
            "                                                                                                  \n",
            " reshape_32 (Reshape)           (None, 200)          0           ['embedding_52[0][0]']           \n",
            "                                                                                                  \n",
            " reshape_34 (Reshape)           (None, 200)          0           ['embedding_54[0][0]']           \n",
            "                                                                                                  \n",
            " embedding_53 (Embedding)       (None, 1, 1)         671         ['input_37[0][0]']               \n",
            "                                                                                                  \n",
            " embedding_55 (Embedding)       (None, 1, 1)         1786        ['input_38[0][0]']               \n",
            "                                                                                                  \n",
            " dot_11 (Dot)                   (None, 1)            0           ['reshape_32[0][0]',             \n",
            "                                                                  'reshape_34[0][0]']             \n",
            "                                                                                                  \n",
            " reshape_33 (Reshape)           (None, 1)            0           ['embedding_53[0][0]']           \n",
            "                                                                                                  \n",
            " reshape_35 (Reshape)           (None, 1)            0           ['embedding_55[0][0]']           \n",
            "                                                                                                  \n",
            " add_4 (Add)                    (None, 1)            0           ['dot_11[0][0]',                 \n",
            "                                                                  'reshape_33[0][0]',             \n",
            "                                                                  'reshape_35[0][0]']             \n",
            "                                                                                                  \n",
            " activation_19 (Activation)     (None, 1)            0           ['add_4[0][0]']                  \n",
            "                                                                                                  \n",
            " lambda_11 (Lambda)             (None, 1)            0           ['activation_19[0][0]']          \n",
            "                                                                                                  \n",
            "==================================================================================================\n",
            "Total params: 493,857\n",
            "Trainable params: 493,857\n",
            "Non-trainable params: 0\n",
            "__________________________________________________________________________________________________\n"
          ]
        }
      ]
    },
    {
      "cell_type": "code",
      "source": [
        "# history = model.fit(x=X_train_array, y=y_train, batch_size=64, epochs=20,\n",
        "#                     verbose=1, validation_data=(X_test_array, y_test))"
      ],
      "metadata": {
        "id": "o7BkS1Gh-P81"
      },
      "execution_count": null,
      "outputs": []
    },
    {
      "cell_type": "code",
      "source": [
        "# import matplotlib.pyplot as plt\n",
        "# plt.plot(history.history['loss'], label='Training Loss')\n",
        "# plt.plot(history.history['val_loss'], label='Validation Loss')\n",
        "# plt.xlabel('Epoch')\n",
        "# plt.ylabel('Loss')\n",
        "# plt.legend()\n",
        "# plt.show()\n"
      ],
      "metadata": {
        "id": "VSLA4TwJ-ks-"
      },
      "execution_count": null,
      "outputs": []
    },
    {
      "cell_type": "code",
      "source": [],
      "metadata": {
        "id": "sx9Z6eAFqSBc"
      },
      "execution_count": null,
      "outputs": []
    },
    {
      "cell_type": "markdown",
      "source": [
        "### ModelV4"
      ],
      "metadata": {
        "id": "NY1K2uztErl0"
      }
    },
    {
      "cell_type": "code",
      "source": [
        "\n",
        "def RecommenderNet(n_users, n_movies, n_factors, min_rating, max_rating):\n",
        "    user = Input(shape=(1,))\n",
        "    u = EmbeddingLayer(n_users, n_factors)(user)\n",
        "\n",
        "    movie = Input(shape=(1,))\n",
        "    m = EmbeddingLayer(n_movies, n_factors)(movie)\n",
        "\n",
        "    x = Concatenate()([u, m])\n",
        "    x = Dropout(0.05)(x)\n",
        "\n",
        "    x = Dense(10, kernel_initializer='he_normal')(x)\n",
        "    x = Activation('relu')(x)\n",
        "    x = Dropout(0.5)(x)\n",
        "\n",
        "    x = Dense(1, kernel_initializer='he_normal')(x)\n",
        "    x = Activation('sigmoid')(x)\n",
        "    x = Lambda(lambda x: x * (max_rating - min_rating) + min_rating)(x)\n",
        "    model = Model(inputs=[user, movie], outputs=x)\n",
        "    opt = Adam(lr=0.001)\n",
        "    model.compile(loss='mean_squared_error', optimizer=opt)\n",
        "    return model"
      ],
      "metadata": {
        "id": "3TWFT0E4qSLv"
      },
      "execution_count": null,
      "outputs": []
    },
    {
      "cell_type": "code",
      "source": [
        "model = RecommenderNet(n_users, n_movies, n_factors, min_rating, max_rating)\n",
        "model.summary()"
      ],
      "metadata": {
        "colab": {
          "base_uri": "https://localhost:8080/"
        },
        "outputId": "2d535a92-7211-4e4b-9dca-e96ba8a3685e",
        "id": "4M5qk5PQqSLw"
      },
      "execution_count": null,
      "outputs": [
        {
          "output_type": "stream",
          "name": "stdout",
          "text": [
            "Model: \"model_20\"\n",
            "__________________________________________________________________________________________________\n",
            " Layer (type)                   Output Shape         Param #     Connected to                     \n",
            "==================================================================================================\n",
            " input_39 (InputLayer)          [(None, 1)]          0           []                               \n",
            "                                                                                                  \n",
            " input_40 (InputLayer)          [(None, 1)]          0           []                               \n",
            "                                                                                                  \n",
            " embedding_56 (Embedding)       (None, 1, 200)       134200      ['input_39[0][0]']               \n",
            "                                                                                                  \n",
            " embedding_57 (Embedding)       (None, 1, 200)       357200      ['input_40[0][0]']               \n",
            "                                                                                                  \n",
            " reshape_36 (Reshape)           (None, 200)          0           ['embedding_56[0][0]']           \n",
            "                                                                                                  \n",
            " reshape_37 (Reshape)           (None, 200)          0           ['embedding_57[0][0]']           \n",
            "                                                                                                  \n",
            " concatenate_8 (Concatenate)    (None, 400)          0           ['reshape_36[0][0]',             \n",
            "                                                                  'reshape_37[0][0]']             \n",
            "                                                                                                  \n",
            " dropout_20 (Dropout)           (None, 400)          0           ['concatenate_8[0][0]']          \n",
            "                                                                                                  \n",
            " dense_20 (Dense)               (None, 10)           4010        ['dropout_20[0][0]']             \n",
            "                                                                                                  \n",
            " activation_20 (Activation)     (None, 10)           0           ['dense_20[0][0]']               \n",
            "                                                                                                  \n",
            " dropout_21 (Dropout)           (None, 10)           0           ['activation_20[0][0]']          \n",
            "                                                                                                  \n",
            " dense_21 (Dense)               (None, 1)            11          ['dropout_21[0][0]']             \n",
            "                                                                                                  \n",
            " activation_21 (Activation)     (None, 1)            0           ['dense_21[0][0]']               \n",
            "                                                                                                  \n",
            " lambda_12 (Lambda)             (None, 1)            0           ['activation_21[0][0]']          \n",
            "                                                                                                  \n",
            "==================================================================================================\n",
            "Total params: 495,421\n",
            "Trainable params: 495,421\n",
            "Non-trainable params: 0\n",
            "__________________________________________________________________________________________________\n"
          ]
        }
      ]
    },
    {
      "cell_type": "code",
      "source": [
        "# history = model.fit(x=X_train_array, y=y_train, batch_size=64, epochs=20,\n",
        "#                     verbose=1, validation_data=(X_test_array, y_test))"
      ],
      "metadata": {
        "id": "HvHB54GjqSLw"
      },
      "execution_count": null,
      "outputs": []
    },
    {
      "cell_type": "code",
      "source": [
        "# import matplotlib.pyplot as plt\n",
        "# plt.plot(history.history['loss'], label='Training Loss')\n",
        "# plt.plot(history.history['val_loss'], label='Validation Loss')\n",
        "# plt.xlabel('Epoch')\n",
        "# plt.ylabel('Loss')\n",
        "# plt.legend()\n",
        "# plt.show()\n"
      ],
      "metadata": {
        "id": "xVUVyEVbqSLw"
      },
      "execution_count": null,
      "outputs": []
    },
    {
      "cell_type": "markdown",
      "source": [
        "### ModelV5"
      ],
      "metadata": {
        "id": "9JjUTTNVEvJH"
      }
    },
    {
      "cell_type": "code",
      "source": [
        "\n",
        "def RecommenderNet2(n_users, n_movies, n_factors, min_rating, max_rating):\n",
        "    user = Input(shape=(1,))\n",
        "    u = Embedding(n_users, n_factors)(user)\n",
        "    u = Flatten()(u)\n",
        "    movie = Input(shape=(1,))\n",
        "    m = Embedding(n_movies, n_factors)(movie)\n",
        "    m = Flatten()(m)\n",
        "\n",
        "    x = Concatenate()([u, m])\n",
        "    x = Dropout(0.05)(x)\n",
        "\n",
        "    x = Dense(10, kernel_initializer='he_normal')(x)\n",
        "    x = Activation('sigmoid')(x)\n",
        "    x = Dropout(0.5)(x)\n",
        "\n",
        "    x = Dense(1, kernel_initializer='he_normal')(x)\n",
        "    x = Activation('sigmoid')(x)\n",
        "    x = Lambda(lambda x: x * (max_rating - min_rating) + min_rating)(x)\n",
        "\n",
        "\n",
        "\n",
        "    model = Model(inputs=[user, movie], outputs=x)\n",
        "    opt = Adam(lr=0.001)\n",
        "    model.compile(loss='mean_squared_error', optimizer=opt)\n",
        "    return model"
      ],
      "metadata": {
        "id": "2okGpM0x-sft"
      },
      "execution_count": null,
      "outputs": []
    },
    {
      "cell_type": "code",
      "source": [
        "model = RecommenderNet2(n_users, n_movies, n_factors, min_rating, max_rating)\n",
        "model.summary()"
      ],
      "metadata": {
        "colab": {
          "base_uri": "https://localhost:8080/"
        },
        "id": "4Y4TKAw5-u0R",
        "outputId": "dbea0959-2ca8-4c9b-f821-ae9763ac5926"
      },
      "execution_count": null,
      "outputs": [
        {
          "output_type": "stream",
          "name": "stdout",
          "text": [
            "Model: \"model_21\"\n",
            "__________________________________________________________________________________________________\n",
            " Layer (type)                   Output Shape         Param #     Connected to                     \n",
            "==================================================================================================\n",
            " input_41 (InputLayer)          [(None, 1)]          0           []                               \n",
            "                                                                                                  \n",
            " input_42 (InputLayer)          [(None, 1)]          0           []                               \n",
            "                                                                                                  \n",
            " embedding_58 (Embedding)       (None, 1, 200)       134200      ['input_41[0][0]']               \n",
            "                                                                                                  \n",
            " embedding_59 (Embedding)       (None, 1, 200)       357200      ['input_42[0][0]']               \n",
            "                                                                                                  \n",
            " flatten_9 (Flatten)            (None, 200)          0           ['embedding_58[0][0]']           \n",
            "                                                                                                  \n",
            " flatten_10 (Flatten)           (None, 200)          0           ['embedding_59[0][0]']           \n",
            "                                                                                                  \n",
            " concatenate_9 (Concatenate)    (None, 400)          0           ['flatten_9[0][0]',              \n",
            "                                                                  'flatten_10[0][0]']             \n",
            "                                                                                                  \n",
            " dropout_22 (Dropout)           (None, 400)          0           ['concatenate_9[0][0]']          \n",
            "                                                                                                  \n",
            " dense_22 (Dense)               (None, 10)           4010        ['dropout_22[0][0]']             \n",
            "                                                                                                  \n",
            " activation_22 (Activation)     (None, 10)           0           ['dense_22[0][0]']               \n",
            "                                                                                                  \n",
            " dropout_23 (Dropout)           (None, 10)           0           ['activation_22[0][0]']          \n",
            "                                                                                                  \n",
            " dense_23 (Dense)               (None, 1)            11          ['dropout_23[0][0]']             \n",
            "                                                                                                  \n",
            " activation_23 (Activation)     (None, 1)            0           ['dense_23[0][0]']               \n",
            "                                                                                                  \n",
            " lambda_13 (Lambda)             (None, 1)            0           ['activation_23[0][0]']          \n",
            "                                                                                                  \n",
            "==================================================================================================\n",
            "Total params: 495,421\n",
            "Trainable params: 495,421\n",
            "Non-trainable params: 0\n",
            "__________________________________________________________________________________________________\n"
          ]
        }
      ]
    },
    {
      "cell_type": "code",
      "source": [
        "# history = model.fit(x=X_train_array, y=y_train, batch_size=64, epochs=20,\n",
        "#                     verbose=1, validation_data=(X_test_array, y_test))"
      ],
      "metadata": {
        "id": "eiP-9adM-v5N"
      },
      "execution_count": null,
      "outputs": []
    },
    {
      "cell_type": "code",
      "source": [
        "# import matplotlib.pyplot as plt\n",
        "# plt.plot(history.history['loss'], label='Training Loss')\n",
        "# plt.plot(history.history['val_loss'], label='Validation Loss')\n",
        "# plt.xlabel('Epoch')\n",
        "# plt.ylabel('Loss')\n",
        "# plt.legend()\n",
        "# plt.show()\n"
      ],
      "metadata": {
        "id": "pqSkcftQ-zRo"
      },
      "execution_count": null,
      "outputs": []
    },
    {
      "cell_type": "markdown",
      "source": [
        "### ModelV6"
      ],
      "metadata": {
        "id": "ZBS5pkEyExnA"
      }
    },
    {
      "cell_type": "code",
      "source": [
        "\n",
        "def RecommenderNet3(n_users, n_movies, n_factors, min_rating, max_rating):\n",
        "    user = Input(shape=(1,))\n",
        "    u = Embedding(n_users, n_factors)(user)\n",
        "\n",
        "    movie = Input(shape=(1,))\n",
        "    m = Embedding(n_movies, n_factors)(movie)\n",
        "\n",
        "    x = Concatenate()([u, m])\n",
        "    x = Dropout(0.05)(x)\n",
        "\n",
        "    x = Dense(10, activation='relu')(x)\n",
        "    x = Activation('sigmoid')(x)\n",
        "    x = Dropout(0.5)(x)\n",
        "\n",
        "    x = Dense(1, activation='relu')(x)\n",
        "    x = Activation('sigmoid')(x)\n",
        "    x = Lambda(lambda x: x * (max_rating - min_rating) + min_rating)(x)\n",
        "\n",
        "    x = Flatten()(x)\n",
        "\n",
        "    model = Model(inputs=[user, movie], outputs=x)\n",
        "    opt = Adam(lr=0.001)\n",
        "    model.compile(loss='mean_squared_error', optimizer=opt)\n",
        "    return model"
      ],
      "metadata": {
        "id": "U1FFIk-PxTC4"
      },
      "execution_count": null,
      "outputs": []
    },
    {
      "cell_type": "code",
      "source": [
        "model = RecommenderNet3(n_users, n_movies, n_factors, min_rating, max_rating)\n",
        "model.summary()"
      ],
      "metadata": {
        "colab": {
          "base_uri": "https://localhost:8080/"
        },
        "outputId": "305c0345-ff2e-4bc6-89e4-34d18a68b2ad",
        "id": "LFlYaaU_xa_3"
      },
      "execution_count": null,
      "outputs": [
        {
          "output_type": "stream",
          "name": "stdout",
          "text": [
            "Model: \"model_2\"\n",
            "__________________________________________________________________________________________________\n",
            " Layer (type)                   Output Shape         Param #     Connected to                     \n",
            "==================================================================================================\n",
            " input_5 (InputLayer)           [(None, 1)]          0           []                               \n",
            "                                                                                                  \n",
            " input_6 (InputLayer)           [(None, 1)]          0           []                               \n",
            "                                                                                                  \n",
            " embedding_4 (Embedding)        (None, 1, 200)       134200      ['input_5[0][0]']                \n",
            "                                                                                                  \n",
            " embedding_5 (Embedding)        (None, 1, 200)       357200      ['input_6[0][0]']                \n",
            "                                                                                                  \n",
            " concatenate_2 (Concatenate)    (None, 1, 400)       0           ['embedding_4[0][0]',            \n",
            "                                                                  'embedding_5[0][0]']            \n",
            "                                                                                                  \n",
            " dropout_7 (Dropout)            (None, 1, 400)       0           ['concatenate_2[0][0]']          \n",
            "                                                                                                  \n",
            " dense_6 (Dense)                (None, 1, 10)        4010        ['dropout_7[0][0]']              \n",
            "                                                                                                  \n",
            " activation_2 (Activation)      (None, 1, 10)        0           ['dense_6[0][0]']                \n",
            "                                                                                                  \n",
            " dropout_8 (Dropout)            (None, 1, 10)        0           ['activation_2[0][0]']           \n",
            "                                                                                                  \n",
            " dense_7 (Dense)                (None, 1, 1)         11          ['dropout_8[0][0]']              \n",
            "                                                                                                  \n",
            " activation_3 (Activation)      (None, 1, 1)         0           ['dense_7[0][0]']                \n",
            "                                                                                                  \n",
            " lambda_1 (Lambda)              (None, 1, 1)         0           ['activation_3[0][0]']           \n",
            "                                                                                                  \n",
            " flatten_1 (Flatten)            (None, 1)            0           ['lambda_1[0][0]']               \n",
            "                                                                                                  \n",
            "==================================================================================================\n",
            "Total params: 495,421\n",
            "Trainable params: 495,421\n",
            "Non-trainable params: 0\n",
            "__________________________________________________________________________________________________\n"
          ]
        },
        {
          "output_type": "stream",
          "name": "stderr",
          "text": [
            "/usr/local/lib/python3.10/dist-packages/keras/optimizers/legacy/adam.py:117: UserWarning: The `lr` argument is deprecated, use `learning_rate` instead.\n",
            "  super().__init__(name, **kwargs)\n"
          ]
        }
      ]
    },
    {
      "cell_type": "code",
      "source": [
        "history = model.fit(x=X_train_array, y=y_train, batch_size=64, epochs=20,\n",
        "                    verbose=1, validation_data=(X_test_array, y_test))"
      ],
      "metadata": {
        "id": "-lnSxFBHxa_3",
        "colab": {
          "base_uri": "https://localhost:8080/"
        },
        "outputId": "fff0d976-8e31-4ecf-c9de-92df72010f73"
      },
      "execution_count": null,
      "outputs": [
        {
          "output_type": "stream",
          "name": "stdout",
          "text": [
            "Epoch 1/20\n",
            "444/444 [==============================] - 3s 5ms/step - loss: 1.5254 - val_loss: 0.9108\n",
            "Epoch 2/20\n",
            "444/444 [==============================] - 2s 5ms/step - loss: 1.0816 - val_loss: 0.8748\n",
            "Epoch 3/20\n",
            "444/444 [==============================] - 2s 4ms/step - loss: 0.9858 - val_loss: 0.8929\n",
            "Epoch 4/20\n",
            "444/444 [==============================] - 2s 4ms/step - loss: 0.9667 - val_loss: 0.8925\n",
            "Epoch 5/20\n",
            "444/444 [==============================] - 2s 4ms/step - loss: 0.9546 - val_loss: 0.8875\n",
            "Epoch 6/20\n",
            "444/444 [==============================] - 2s 4ms/step - loss: 0.9507 - val_loss: 0.8866\n",
            "Epoch 7/20\n",
            "444/444 [==============================] - 2s 4ms/step - loss: 0.9472 - val_loss: 0.8867\n",
            "Epoch 8/20\n",
            "444/444 [==============================] - 2s 5ms/step - loss: 0.9394 - val_loss: 0.8815\n",
            "Epoch 9/20\n",
            "444/444 [==============================] - 2s 5ms/step - loss: 0.9360 - val_loss: 0.8803\n",
            "Epoch 10/20\n",
            "444/444 [==============================] - 2s 4ms/step - loss: 0.9311 - val_loss: 0.8794\n",
            "Epoch 11/20\n",
            "444/444 [==============================] - 2s 6ms/step - loss: 0.9331 - val_loss: 0.8769\n",
            "Epoch 12/20\n",
            "444/444 [==============================] - 3s 6ms/step - loss: 0.9220 - val_loss: 0.8766\n",
            "Epoch 13/20\n",
            "444/444 [==============================] - 2s 4ms/step - loss: 0.9253 - val_loss: 0.8787\n",
            "Epoch 14/20\n",
            "444/444 [==============================] - 2s 5ms/step - loss: 0.9187 - val_loss: 0.8746\n",
            "Epoch 15/20\n",
            "444/444 [==============================] - 2s 5ms/step - loss: 0.9176 - val_loss: 0.8733\n",
            "Epoch 16/20\n",
            "444/444 [==============================] - 2s 4ms/step - loss: 0.9219 - val_loss: 0.8730\n",
            "Epoch 17/20\n",
            "444/444 [==============================] - 2s 4ms/step - loss: 0.9117 - val_loss: 0.8714\n",
            "Epoch 18/20\n",
            "444/444 [==============================] - 2s 4ms/step - loss: 0.9124 - val_loss: 0.8736\n",
            "Epoch 19/20\n",
            "444/444 [==============================] - 2s 4ms/step - loss: 0.9154 - val_loss: 0.8768\n",
            "Epoch 20/20\n",
            "444/444 [==============================] - 2s 4ms/step - loss: 0.9108 - val_loss: 0.8703\n"
          ]
        }
      ]
    },
    {
      "cell_type": "code",
      "source": [
        "import matplotlib.pyplot as plt\n",
        "plt.plot(history.history['loss'], label='Training Loss')\n",
        "plt.plot(history.history['val_loss'], label='Validation Loss')\n",
        "plt.xlabel('Epoch')\n",
        "plt.ylabel('Loss')\n",
        "plt.legend()\n",
        "plt.show()\n"
      ],
      "metadata": {
        "id": "EVYmcYWDxa_4",
        "colab": {
          "base_uri": "https://localhost:8080/",
          "height": 449
        },
        "outputId": "a425eac6-019c-4e61-8785-a108b54b1246"
      },
      "execution_count": null,
      "outputs": [
        {
          "output_type": "display_data",
          "data": {
            "text/plain": [
              "<Figure size 640x480 with 1 Axes>"
            ],
            "image/png": "[encoded data removed]"
          },
          "metadata": {}
        }
      ]
    },
    {
      "cell_type": "code",
      "source": [],
      "metadata": {
        "id": "KpCjbB2n2c0i"
      },
      "execution_count": null,
      "outputs": []
    },
    {
      "cell_type": "markdown",
      "source": [
        "### ModelV7"
      ],
      "metadata": {
        "id": "J-ost3x7E0Ci"
      }
    },
    {
      "cell_type": "code",
      "source": [
        "\n",
        "def RecommenderNet4(n_users, n_movies, n_factors, min_rating, max_rating):\n",
        "    user = Input(shape=(1,))\n",
        "    u = Embedding(n_users, n_factors)(user)\n",
        "\n",
        "    movie = Input(shape=(1,))\n",
        "    m = Embedding(n_movies, n_factors)(movie)\n",
        "\n",
        "    x = Concatenate()([u, m])\n",
        "    x = Dropout(0.05)(x)\n",
        "\n",
        "    x = Dense(10, activation='relu')(x)\n",
        "    x = Activation('sigmoid')(x)\n",
        "    x = Dropout(0.5)(x)\n",
        "\n",
        "    x = LSTM(100)(x)\n",
        "\n",
        "    x = Dense(1, activation='relu')(x)\n",
        "    x = Activation('sigmoid')(x)\n",
        "    x = Lambda(lambda x: x * (max_rating - min_rating) + min_rating)(x)\n",
        "\n",
        "    x = Flatten()(x)\n",
        "\n",
        "    model = Model(inputs=[user, movie], outputs=x)\n",
        "    opt = Adam(lr=0.001)\n",
        "    model.compile(loss='mean_squared_error', optimizer=opt)\n",
        "    return model"
      ],
      "metadata": {
        "id": "SA2ejqMq2hc8"
      },
      "execution_count": null,
      "outputs": []
    },
    {
      "cell_type": "code",
      "source": [
        "# model = RecommenderNet4(n_users, n_movies, n_factors, min_rating, max_rating)\n",
        "# model.summary()"
      ],
      "metadata": {
        "id": "G5ywcjAM2hc8"
      },
      "execution_count": null,
      "outputs": []
    },
    {
      "cell_type": "code",
      "source": [
        "# history = model.fit(x=X_train_array, y=y_train, batch_size=64, epochs=20,\n",
        "#                     verbose=1, validation_data=(X_test_array, y_test))"
      ],
      "metadata": {
        "id": "5vkD69Ig2hc8"
      },
      "execution_count": null,
      "outputs": []
    },
    {
      "cell_type": "code",
      "source": [
        "# import matplotlib.pyplot as plt\n",
        "# plt.plot(history.history['loss'], label='Training Loss')\n",
        "# plt.plot(history.history['val_loss'], label='Validation Loss')\n",
        "# plt.xlabel('Epoch')\n",
        "# plt.ylabel('Loss')\n",
        "# plt.legend()\n",
        "# plt.show()\n"
      ],
      "metadata": {
        "id": "XNrwDcdO2hc8"
      },
      "execution_count": null,
      "outputs": []
    },
    {
      "cell_type": "markdown",
      "source": [
        "### ModelV8"
      ],
      "metadata": {
        "id": "l_U1nUCOE5wM"
      }
    },
    {
      "cell_type": "code",
      "source": [
        "train, test = train_test_split(data, test_size=0.2)\n",
        "n_users = len(data.userId.unique())\n",
        "n_movies = len(data.movieId.unique())"
      ],
      "metadata": {
        "id": "WNKJE9fDrkqM"
      },
      "execution_count": null,
      "outputs": []
    },
    {
      "cell_type": "code",
      "source": [
        "user_input = Input(shape=(1,))\n",
        "movie_input = Input(shape=(1,))\n",
        "user_embedding = Embedding(n_users, 200)(user_input)\n",
        "movie_embedding = Embedding(n_movies, 200)(movie_input)\n",
        "\n",
        "user_flatten = Flatten()(user_embedding)\n",
        "movie_flatten = Flatten()(movie_embedding)\n",
        "\n",
        "dot = Dot(axes=1)([user_flatten, movie_flatten])\n",
        "dense_layer = Dense(128, activation='relu')(dot)\n",
        "\n",
        "model = Model([user_input, movie_input], dense_layer)"
      ],
      "metadata": {
        "id": "9jyy10SirAiQ"
      },
      "execution_count": null,
      "outputs": []
    },
    {
      "cell_type": "code",
      "source": [
        "model.compile(loss='mean_squared_error', optimizer='adam')"
      ],
      "metadata": {
        "id": "xhstP7NLrLYg"
      },
      "execution_count": null,
      "outputs": []
    },
    {
      "cell_type": "code",
      "source": [
        "# history = model.fit(x=X_train_array, y=y_train, batch_size=64, epochs=20,\n",
        "#                     verbose=1, validation_data=(X_test_array, y_test))"
      ],
      "metadata": {
        "id": "zUQAEc5wrNL_"
      },
      "execution_count": null,
      "outputs": []
    },
    {
      "cell_type": "code",
      "source": [
        "# import matplotlib.pyplot as plt\n",
        "# plt.plot(history.history['loss'], label='Training Loss')\n",
        "# plt.plot(history.history['val_loss'], label='Validation Loss')\n",
        "# plt.xlabel('Epoch')\n",
        "# plt.ylabel('Loss')\n",
        "# plt.legend()\n",
        "# plt.show()"
      ],
      "metadata": {
        "id": "LPAUNCY7rW_u"
      },
      "execution_count": null,
      "outputs": []
    },
    {
      "cell_type": "code",
      "source": [
        "data.head()"
      ],
      "metadata": {
        "colab": {
          "base_uri": "https://localhost:8080/",
          "height": 397
        },
        "id": "mQJn_Kf2X-zP",
        "outputId": "61de609b-3bf5-46e5-e6de-0204087bfe8b"
      },
      "execution_count": null,
      "outputs": [
        {
          "output_type": "execute_result",
          "data": {
            "text/plain": [
              "   Unnamed: 0                                    genres  movieId  \\\n",
              "0           0  ['Action', 'Crime', 'Drama', 'Thriller']      949   \n",
              "1           1  ['Action', 'Crime', 'Drama', 'Thriller']      949   \n",
              "2           2  ['Action', 'Crime', 'Drama', 'Thriller']      949   \n",
              "3           3  ['Action', 'Crime', 'Drama', 'Thriller']      949   \n",
              "4           4  ['Action', 'Crime', 'Drama', 'Thriller']      949   \n",
              "\n",
              "  original_title                   tagline  userId  rating  \\\n",
              "0           Heat  A Los Angeles Crime Saga      23     3.5   \n",
              "1           Heat  A Los Angeles Crime Saga     102     4.0   \n",
              "2           Heat  A Los Angeles Crime Saga     232     2.0   \n",
              "3           Heat  A Los Angeles Crime Saga     242     5.0   \n",
              "4           Heat  A Los Angeles Crime Saga     263     3.0   \n",
              "\n",
              "                                                cast  \\\n",
              "0  ['Al Pacino', 'Robert De Niro', 'Val Kilmer', ...   \n",
              "1  ['Al Pacino', 'Robert De Niro', 'Val Kilmer', ...   \n",
              "2  ['Al Pacino', 'Robert De Niro', 'Val Kilmer', ...   \n",
              "3  ['Al Pacino', 'Robert De Niro', 'Val Kilmer', ...   \n",
              "4  ['Al Pacino', 'Robert De Niro', 'Val Kilmer', ...   \n",
              "\n",
              "                                            keywords  user  movie  \n",
              "0  ['robbery', 'detective', 'bank', 'obsession', ...    22    483  \n",
              "1  ['robbery', 'detective', 'bank', 'obsession', ...   101    483  \n",
              "2  ['robbery', 'detective', 'bank', 'obsession', ...   231    483  \n",
              "3  ['robbery', 'detective', 'bank', 'obsession', ...   241    483  \n",
              "4  ['robbery', 'detective', 'bank', 'obsession', ...   262    483  "
            ],
            "text/html": [
              "\n",
              "  <div id=\"df-5bc4a559-f85a-4cfa-b3f7-147e9d9880cf\" class=\"colab-df-container\">\n",
              "    <div>\n",
              "<style scoped>\n",
              "    .dataframe tbody tr th:only-of-type {\n",
              "        vertical-align: middle;\n",
              "    }\n",
              "\n",
              "    .dataframe tbody tr th {\n",
              "        vertical-align: top;\n",
              "    }\n",
              "\n",
              "    .dataframe thead th {\n",
              "        text-align: right;\n",
              "    }\n",
              "</style>\n",
              "<table border=\"1\" class=\"dataframe\">\n",
              "  <thead>\n",
              "    <tr style=\"text-align: right;\">\n",
              "      <th></th>\n",
              "      <th>Unnamed: 0</th>\n",
              "      <th>genres</th>\n",
              "      <th>movieId</th>\n",
              "      <th>original_title</th>\n",
              "      <th>tagline</th>\n",
              "      <th>userId</th>\n",
              "      <th>rating</th>\n",
              "      <th>cast</th>\n",
              "      <th>keywords</th>\n",
              "      <th>user</th>\n",
              "      <th>movie</th>\n",
              "    </tr>\n",
              "  </thead>\n",
              "  <tbody>\n",
              "    <tr>\n",
              "      <th>0</th>\n",
              "      <td>0</td>\n",
              "      <td>['Action', 'Crime', 'Drama', 'Thriller']</td>\n",
              "      <td>949</td>\n",
              "      <td>Heat</td>\n",
              "      <td>A Los Angeles Crime Saga</td>\n",
              "      <td>23</td>\n",
              "      <td>3.5</td>\n",
              "      <td>['Al Pacino', 'Robert De Niro', 'Val Kilmer', ...</td>\n",
              "      <td>['robbery', 'detective', 'bank', 'obsession', ...</td>\n",
              "      <td>22</td>\n",
              "      <td>483</td>\n",
              "    </tr>\n",
              "    <tr>\n",
              "      <th>1</th>\n",
              "      <td>1</td>\n",
              "      <td>['Action', 'Crime', 'Drama', 'Thriller']</td>\n",
              "      <td>949</td>\n",
              "      <td>Heat</td>\n",
              "      <td>A Los Angeles Crime Saga</td>\n",
              "      <td>102</td>\n",
              "      <td>4.0</td>\n",
              "      <td>['Al Pacino', 'Robert De Niro', 'Val Kilmer', ...</td>\n",
              "      <td>['robbery', 'detective', 'bank', 'obsession', ...</td>\n",
              "      <td>101</td>\n",
              "      <td>483</td>\n",
              "    </tr>\n",
              "    <tr>\n",
              "      <th>2</th>\n",
              "      <td>2</td>\n",
              "      <td>['Action', 'Crime', 'Drama', 'Thriller']</td>\n",
              "      <td>949</td>\n",
              "      <td>Heat</td>\n",
              "      <td>A Los Angeles Crime Saga</td>\n",
              "      <td>232</td>\n",
              "      <td>2.0</td>\n",
              "      <td>['Al Pacino', 'Robert De Niro', 'Val Kilmer', ...</td>\n",
              "      <td>['robbery', 'detective', 'bank', 'obsession', ...</td>\n",
              "      <td>231</td>\n",
              "      <td>483</td>\n",
              "    </tr>\n",
              "    <tr>\n",
              "      <th>3</th>\n",
              "      <td>3</td>\n",
              "      <td>['Action', 'Crime', 'Drama', 'Thriller']</td>\n",
              "      <td>949</td>\n",
              "      <td>Heat</td>\n",
              "      <td>A Los Angeles Crime Saga</td>\n",
              "      <td>242</td>\n",
              "      <td>5.0</td>\n",
              "      <td>['Al Pacino', 'Robert De Niro', 'Val Kilmer', ...</td>\n",
              "      <td>['robbery', 'detective', 'bank', 'obsession', ...</td>\n",
              "      <td>241</td>\n",
              "      <td>483</td>\n",
              "    </tr>\n",
              "    <tr>\n",
              "      <th>4</th>\n",
              "      <td>4</td>\n",
              "      <td>['Action', 'Crime', 'Drama', 'Thriller']</td>\n",
              "      <td>949</td>\n",
              "      <td>Heat</td>\n",
              "      <td>A Los Angeles Crime Saga</td>\n",
              "      <td>263</td>\n",
              "      <td>3.0</td>\n",
              "      <td>['Al Pacino', 'Robert De Niro', 'Val Kilmer', ...</td>\n",
              "      <td>['robbery', 'detective', 'bank', 'obsession', ...</td>\n",
              "      <td>262</td>\n",
              "      <td>483</td>\n",
              "    </tr>\n",
              "  </tbody>\n",
              "</table>\n",
              "</div>\n",
              "    <div class=\"colab-df-buttons\">\n",
              "\n",
              "  <div class=\"colab-df-container\">\n",
              "    <button class=\"colab-df-convert\" onclick=\"convertToInteractive('df-5bc4a559-f85a-4cfa-b3f7-147e9d9880cf')\"\n",
              "            title=\"Convert this dataframe to an interactive table.\"\n",
              "            style=\"display:none;\">\n",
              "\n",
              "  <svg xmlns=\"http://www.w3.org/2000/svg\" height=\"24px\" viewBox=\"0 -960 960 960\">\n",
              "    <path d=\"M120-120v-720h720v720H120Zm60-500h600v-160H180v160Zm220 220h160v-160H400v160Zm0 220h160v-160H400v160ZM180-400h160v-160H180v160Zm440 0h160v-160H620v160ZM180-180h160v-160H180v160Zm440 0h160v-160H620v160Z\"/>\n",
              "  </svg>\n",
              "    </button>\n",
              "\n",
              "  <style>\n",
              "    .colab-df-container {\n",
              "      display:flex;\n",
              "      gap: 12px;\n",
              "    }\n",
              "\n",
              "    .colab-df-convert {\n",
              "      background-color: #E8F0FE;\n",
              "      border: none;\n",
              "      border-radius: 50%;\n",
              "      cursor: pointer;\n",
              "      display: none;\n",
              "      fill: #1967D2;\n",
              "      height: 32px;\n",
              "      padding: 0 0 0 0;\n",
              "      width: 32px;\n",
              "    }\n",
              "\n",
              "    .colab-df-convert:hover {\n",
              "      background-color: #E2EBFA;\n",
              "      box-shadow: 0px 1px 2px rgba(60, 64, 67, 0.3), 0px 1px 3px 1px rgba(60, 64, 67, 0.15);\n",
              "      fill: #174EA6;\n",
              "    }\n",
              "\n",
              "    .colab-df-buttons div {\n",
              "      margin-bottom: 4px;\n",
              "    }\n",
              "\n",
              "    [theme=dark] .colab-df-convert {\n",
              "      background-color: #3B4455;\n",
              "      fill: #D2E3FC;\n",
              "    }\n",
              "\n",
              "    [theme=dark] .colab-df-convert:hover {\n",
              "      background-color: #434B5C;\n",
              "      box-shadow: 0px 1px 3px 1px rgba(0, 0, 0, 0.15);\n",
              "      filter: drop-shadow(0px 1px 2px rgba(0, 0, 0, 0.3));\n",
              "      fill: #FFFFFF;\n",
              "    }\n",
              "  </style>\n",
              "\n",
              "    <script>\n",
              "      const buttonEl =\n",
              "        document.querySelector('#df-5bc4a559-f85a-4cfa-b3f7-147e9d9880cf button.colab-df-convert');\n",
              "      buttonEl.style.display =\n",
              "        google.colab.kernel.accessAllowed ? 'block' : 'none';\n",
              "\n",
              "      async function convertToInteractive(key) {\n",
              "        const element = document.querySelector('#df-5bc4a559-f85a-4cfa-b3f7-147e9d9880cf');\n",
              "        const dataTable =\n",
              "          await google.colab.kernel.invokeFunction('convertToInteractive',\n",
              "                                                    [key], {});\n",
              "        if (!dataTable) return;\n",
              "\n",
              "        const docLinkHtml = 'Like what you see? Visit the ' +\n",
              "          '<a target=\"_blank\" href=https://colab.research.google.com/notebooks/data_table.ipynb>data table notebook</a>'\n",
              "          + ' to learn more about interactive tables.';\n",
              "        element.innerHTML = '';\n",
              "        dataTable['output_type'] = 'display_data';\n",
              "        await google.colab.output.renderOutput(dataTable, element);\n",
              "        const docLink = document.createElement('div');\n",
              "        docLink.innerHTML = docLinkHtml;\n",
              "        element.appendChild(docLink);\n",
              "      }\n",
              "    </script>\n",
              "  </div>\n",
              "\n",
              "\n",
              "<div id=\"df-4f76f803-4cb5-4f49-9f0a-200dcee01d76\">\n",
              "  <button class=\"colab-df-quickchart\" onclick=\"quickchart('df-4f76f803-4cb5-4f49-9f0a-200dcee01d76')\"\n",
              "            title=\"Suggest charts.\"\n",
              "            style=\"display:none;\">\n",
              "\n",
              "<svg xmlns=\"http://www.w3.org/2000/svg\" height=\"24px\"viewBox=\"0 0 24 24\"\n",
              "     width=\"24px\">\n",
              "    <g>\n",
              "        <path d=\"M19 3H5c-1.1 0-2 .9-2 2v14c0 1.1.9 2 2 2h14c1.1 0 2-.9 2-2V5c0-1.1-.9-2-2-2zM9 17H7v-7h2v7zm4 0h-2V7h2v10zm4 0h-2v-4h2v4z\"/>\n",
              "    </g>\n",
              "</svg>\n",
              "  </button>\n",
              "\n",
              "<style>\n",
              "  .colab-df-quickchart {\n",
              "      --bg-color: #E8F0FE;\n",
              "      --fill-color: #1967D2;\n",
              "      --hover-bg-color: #E2EBFA;\n",
              "      --hover-fill-color: #174EA6;\n",
              "      --disabled-fill-color: #AAA;\n",
              "      --disabled-bg-color: #DDD;\n",
              "  }\n",
              "\n",
              "  [theme=dark] .colab-df-quickchart {\n",
              "      --bg-color: #3B4455;\n",
              "      --fill-color: #D2E3FC;\n",
              "      --hover-bg-color: #434B5C;\n",
              "      --hover-fill-color: #FFFFFF;\n",
              "      --disabled-bg-color: #3B4455;\n",
              "      --disabled-fill-color: #666;\n",
              "  }\n",
              "\n",
              "  .colab-df-quickchart {\n",
              "    background-color: var(--bg-color);\n",
              "    border: none;\n",
              "    border-radius: 50%;\n",
              "    cursor: pointer;\n",
              "    display: none;\n",
              "    fill: var(--fill-color);\n",
              "    height: 32px;\n",
              "    padding: 0;\n",
              "    width: 32px;\n",
              "  }\n",
              "\n",
              "  .colab-df-quickchart:hover {\n",
              "    background-color: var(--hover-bg-color);\n",
              "    box-shadow: 0 1px 2px rgba(60, 64, 67, 0.3), 0 1px 3px 1px rgba(60, 64, 67, 0.15);\n",
              "    fill: var(--button-hover-fill-color);\n",
              "  }\n",
              "\n",
              "  .colab-df-quickchart-complete:disabled,\n",
              "  .colab-df-quickchart-complete:disabled:hover {\n",
              "    background-color: var(--disabled-bg-color);\n",
              "    fill: var(--disabled-fill-color);\n",
              "    box-shadow: none;\n",
              "  }\n",
              "\n",
              "  .colab-df-spinner {\n",
              "    border: 2px solid var(--fill-color);\n",
              "    border-color: transparent;\n",
              "    border-bottom-color: var(--fill-color);\n",
              "    animation:\n",
              "      spin 1s steps(1) infinite;\n",
              "  }\n",
              "\n",
              "  @keyframes spin {\n",
              "    0% {\n",
              "      border-color: transparent;\n",
              "      border-bottom-color: var(--fill-color);\n",
              "      border-left-color: var(--fill-color);\n",
              "    }\n",
              "    20% {\n",
              "      border-color: transparent;\n",
              "      border-left-color: var(--fill-color);\n",
              "      border-top-color: var(--fill-color);\n",
              "    }\n",
              "    30% {\n",
              "      border-color: transparent;\n",
              "      border-left-color: var(--fill-color);\n",
              "      border-top-color: var(--fill-color);\n",
              "      border-right-color: var(--fill-color);\n",
              "    }\n",
              "    40% {\n",
              "      border-color: transparent;\n",
              "      border-right-color: var(--fill-color);\n",
              "      border-top-color: var(--fill-color);\n",
              "    }\n",
              "    60% {\n",
              "      border-color: transparent;\n",
              "      border-right-color: var(--fill-color);\n",
              "    }\n",
              "    80% {\n",
              "      border-color: transparent;\n",
              "      border-right-color: var(--fill-color);\n",
              "      border-bottom-color: var(--fill-color);\n",
              "    }\n",
              "    90% {\n",
              "      border-color: transparent;\n",
              "      border-bottom-color: var(--fill-color);\n",
              "    }\n",
              "  }\n",
              "</style>\n",
              "\n",
              "  <script>\n",
              "    async function quickchart(key) {\n",
              "      const quickchartButtonEl =\n",
              "        document.querySelector('#' + key + ' button');\n",
              "      quickchartButtonEl.disabled = true;  // To prevent multiple clicks.\n",
              "      quickchartButtonEl.classList.add('colab-df-spinner');\n",
              "      try {\n",
              "        const charts = await google.colab.kernel.invokeFunction(\n",
              "            'suggestCharts', [key], {});\n",
              "      } catch (error) {\n",
              "        console.error('Error during call to suggestCharts:', error);\n",
              "      }\n",
              "      quickchartButtonEl.classList.remove('colab-df-spinner');\n",
              "      quickchartButtonEl.classList.add('colab-df-quickchart-complete');\n",
              "    }\n",
              "    (() => {\n",
              "      let quickchartButtonEl =\n",
              "        document.querySelector('#df-4f76f803-4cb5-4f49-9f0a-200dcee01d76 button');\n",
              "      quickchartButtonEl.style.display =\n",
              "        google.colab.kernel.accessAllowed ? 'block' : 'none';\n",
              "    })();\n",
              "  </script>\n",
              "</div>\n",
              "    </div>\n",
              "  </div>\n"
            ]
          },
          "metadata": {},
          "execution_count": 176
        }
      ]
    },
    {
      "cell_type": "code",
      "source": [
        "from keras.layers import Dot, multiply, concatenate"
      ],
      "metadata": {
        "id": "D6u-cRlPXAEo"
      },
      "execution_count": null,
      "outputs": []
    },
    {
      "cell_type": "markdown",
      "source": [
        "### ModelV9"
      ],
      "metadata": {
        "id": "goByNCb9E8mK"
      }
    },
    {
      "cell_type": "code",
      "source": [
        "users = data.userId.unique()\n",
        "movies = data.movieId.unique()\n",
        "\n",
        "userid2idx = {o:i for i,o in enumerate(users)}\n",
        "movieid2idx = {o:i for i,o in enumerate(movies)}\n",
        "\n",
        "\n",
        "data['userId'] = data['userId'].apply(lambda x: userid2idx[x])\n",
        "data['movieId'] = data['movieId'].apply(lambda x: movieid2idx[x])\n",
        "split = np.random.rand(len(data)) < 0.8\n",
        "train = data[split]\n",
        "valid = data[~split]\n",
        "print(train.shape , valid.shape)\n",
        "\n",
        "\n",
        "\n",
        "n_latent_factors=50\n",
        "n_movies=len(data['movieId'].unique())\n",
        "n_users=len(data['userId'].unique())\n",
        "\n",
        "\n",
        "user_input=Input(shape=(1,),name='user_input',dtype='int64')\n",
        "user_embedding=Embedding(n_users,n_latent_factors,name='user_embedding')(user_input)\n",
        "user_vec=Flatten(name='FlattenUsers')(user_embedding)\n",
        "user_vec=Dropout(0.40)(user_vec)"
      ],
      "metadata": {
        "colab": {
          "base_uri": "https://localhost:8080/"
        },
        "id": "BctmnKVHBNes",
        "outputId": "790f4e32-eb2d-485a-bf57-8c769ac7ac5d"
      },
      "execution_count": null,
      "outputs": [
        {
          "output_type": "stream",
          "name": "stdout",
          "text": [
            "(25179, 11) (6373, 11)\n"
          ]
        }
      ]
    },
    {
      "cell_type": "code",
      "source": [
        "movie_input=Input(shape=(1,),name='movie_input',dtype='int64')\n",
        "movie_embedding=Embedding(n_movies,n_latent_factors,name='movie_embedding')(movie_input)\n",
        "movie_vec=Flatten(name='FlattenMovies')(movie_embedding)\n",
        "movie_vec=Dropout(0.40)(movie_vec)\n",
        "\n",
        "\n",
        "sim=Dot(axes=1)([user_vec,movie_vec])"
      ],
      "metadata": {
        "id": "_oYrxG4Eow2d"
      },
      "execution_count": null,
      "outputs": []
    },
    {
      "cell_type": "code",
      "source": [
        "\n",
        "from keras.layers import Input, Embedding, Flatten, Dot, Dense,LSTM, BatchNormalization\n",
        "from keras.models import Model\n",
        "\n",
        "nn_inp=Dense(128,activation='relu')(sim)\n",
        "nn_inp=Dropout(0.4)(nn_inp)\n",
        "nn_inp=BatchNormalization()(nn_inp)\n",
        "\n",
        "nn_inp=Dense(128,activation='relu')(nn_inp)\n",
        "nn_inp=Dropout(0.4)(nn_inp)\n",
        "nn_inp=BatchNormalization()(nn_inp)\n",
        "\n",
        "nn_inp=Dense(1,activation='relu')(nn_inp)\n",
        "nn_model =Model([user_input, movie_input],nn_inp)\n",
        "nn_model.summary()"
      ],
      "metadata": {
        "colab": {
          "base_uri": "https://localhost:8080/"
        },
        "id": "YU_R1Az1pVN9",
        "outputId": "1fb61ed2-5af3-4e08-d6ed-4b2af2c48564"
      },
      "execution_count": null,
      "outputs": [
        {
          "output_type": "stream",
          "name": "stdout",
          "text": [
            "Model: \"model\"\n",
            "__________________________________________________________________________________________________\n",
            " Layer (type)                   Output Shape         Param #     Connected to                     \n",
            "==================================================================================================\n",
            " user_input (InputLayer)        [(None, 1)]          0           []                               \n",
            "                                                                                                  \n",
            " movie_input (InputLayer)       [(None, 1)]          0           []                               \n",
            "                                                                                                  \n",
            " user_embedding (Embedding)     (None, 1, 50)        33550       ['user_input[0][0]']             \n",
            "                                                                                                  \n",
            " movie_embedding (Embedding)    (None, 1, 50)        89300       ['movie_input[0][0]']            \n",
            "                                                                                                  \n",
            " FlattenUsers (Flatten)         (None, 50)           0           ['user_embedding[0][0]']         \n",
            "                                                                                                  \n",
            " FlattenMovies (Flatten)        (None, 50)           0           ['movie_embedding[0][0]']        \n",
            "                                                                                                  \n",
            " dropout (Dropout)              (None, 50)           0           ['FlattenUsers[0][0]']           \n",
            "                                                                                                  \n",
            " dropout_1 (Dropout)            (None, 50)           0           ['FlattenMovies[0][0]']          \n",
            "                                                                                                  \n",
            " dot (Dot)                      (None, 1)            0           ['dropout[0][0]',                \n",
            "                                                                  'dropout_1[0][0]']              \n",
            "                                                                                                  \n",
            " dense (Dense)                  (None, 128)          256         ['dot[0][0]']                    \n",
            "                                                                                                  \n",
            " dropout_2 (Dropout)            (None, 128)          0           ['dense[0][0]']                  \n",
            "                                                                                                  \n",
            " batch_normalization (BatchNorm  (None, 128)         512         ['dropout_2[0][0]']              \n",
            " alization)                                                                                       \n",
            "                                                                                                  \n",
            " dense_1 (Dense)                (None, 128)          16512       ['batch_normalization[0][0]']    \n",
            "                                                                                                  \n",
            " dropout_3 (Dropout)            (None, 128)          0           ['dense_1[0][0]']                \n",
            "                                                                                                  \n",
            " batch_normalization_1 (BatchNo  (None, 128)         512         ['dropout_3[0][0]']              \n",
            " rmalization)                                                                                     \n",
            "                                                                                                  \n",
            " dense_2 (Dense)                (None, 1)            129         ['batch_normalization_1[0][0]']  \n",
            "                                                                                                  \n",
            "==================================================================================================\n",
            "Total params: 140,771\n",
            "Trainable params: 140,259\n",
            "Non-trainable params: 512\n",
            "__________________________________________________________________________________________________\n"
          ]
        }
      ]
    },
    {
      "cell_type": "code",
      "source": [
        "\n",
        "nn_model.compile('adam', 'mean_squared_error')"
      ],
      "metadata": {
        "id": "WyCx4hW2p_tR"
      },
      "execution_count": null,
      "outputs": []
    },
    {
      "cell_type": "code",
      "source": [
        "\n",
        "batch_size = 64\n",
        "epochs = 100\n",
        "\n",
        "History = nn_model.fit([train.userId,train.movieId],train.rating, batch_size=batch_size,\n",
        "                              epochs =epochs, validation_data = ([valid.userId,valid.movieId],valid.rating),\n",
        "                              verbose = 1)"
      ],
      "metadata": {
        "id": "fqSLw58XqCMa"
      },
      "execution_count": null,
      "outputs": []
    },
    {
      "cell_type": "code",
      "source": [
        "import matplotlib.pyplot as plt\n",
        "plt.plot(History.history['loss'], label='Training Loss')\n",
        "plt.plot(History.history['val_loss'], label='Validation Loss')\n",
        "plt.xlabel('Epoch')\n",
        "plt.ylabel('Loss')\n",
        "plt.legend()\n",
        "plt.show()"
      ],
      "metadata": {
        "id": "9UXdwhnprWmo",
        "colab": {
          "base_uri": "https://localhost:8080/",
          "height": 449
        },
        "outputId": "92ffd1e6-603d-4c47-a1f6-06b00f41b0ee"
      },
      "execution_count": null,
      "outputs": [
        {
          "output_type": "display_data",
          "data": {
            "text/plain": [
              "<Figure size 640x480 with 1 Axes>"
            ],
            "image/png": "[encoded data removed]"
          },
          "metadata": {}
        }
      ]
    },
    {
      "cell_type": "code",
      "source": [
        "# movie_data = np.array(list(set(data.movieId)))\n",
        "# movie_data[:5]\n",
        "# user = np.array([14 for i in range(len(movie_data))])\n",
        "# user[:5]\n",
        "# predictions = model.predict([user, movie_data])\n",
        "# predictions = np.array([a[0] for a in predictions])\n",
        "# recommended_movie_ids = (-predictions).argsort()[:5]\n",
        "# print(recommended_movie_ids)\n",
        "# print(predictions[recommended_movie_ids])"
      ],
      "metadata": {
        "id": "0HqmrGGYtXSQ"
      },
      "execution_count": null,
      "outputs": []
    },
    {
      "cell_type": "markdown",
      "source": [
        "### ModelV10"
      ],
      "metadata": {
        "id": "MHtpTfeEFLQX"
      }
    },
    {
      "cell_type": "code",
      "source": [
        "print(num_users, num_movies)"
      ],
      "metadata": {
        "colab": {
          "base_uri": "https://localhost:8080/"
        },
        "id": "6eeqokgzFt-c",
        "outputId": "883faa01-85a3-471e-a1f0-334cc77d51f3"
      },
      "execution_count": null,
      "outputs": [
        {
          "output_type": "stream",
          "name": "stdout",
          "text": [
            "671 1786\n"
          ]
        }
      ]
    },
    {
      "cell_type": "code",
      "source": [
        "train_df, test_df = train_test_split(data, test_size=0.2, random_state=42)\n",
        "print(\"Train size:\", train_df.shape)    # 80.00%\n",
        "print(\"Test size:\", test_df.shape)      # 20.00%\n",
        "\n",
        "X_train = train_df[['userId', 'movieId']].values\n",
        "y_train = train_df['rating'].values\n",
        "X_test = test_df[['userId', 'movieId']].values\n",
        "y_test = test_df['rating'].values\n",
        "\n",
        "X_train.shape, X_test.shape, y_train.shape, y_test.shape\n",
        "\n",
        "X_train_array = [X_train[:, 0], X_train[:, 1]]\n",
        "X_test_array = [X_test[:, 0], X_test[:, 1]]"
      ],
      "metadata": {
        "colab": {
          "base_uri": "https://localhost:8080/"
        },
        "id": "Xt2aNkIbsoDc",
        "outputId": "07adba24-9159-4b31-ee81-33fdf55da083"
      },
      "execution_count": null,
      "outputs": [
        {
          "output_type": "stream",
          "name": "stdout",
          "text": [
            "Train size: (25241, 11)\n",
            "Test size: (6311, 11)\n"
          ]
        }
      ]
    },
    {
      "cell_type": "code",
      "source": [
        "from keras.models import Model\n",
        "from keras.layers import Input, Reshape, Dot, Embedding\n",
        "from keras.regularizers import l2\n",
        "from keras.activations import sigmoid\n",
        "\n",
        "# number of latent factors in the embedding space\n",
        "num_factors = 50\n",
        "\n",
        "user = Input(shape=(1,), name='user-input')\n",
        "u = Embedding(num_users,\n",
        "              num_factors,\n",
        "              embeddings_initializer='he_normal',\n",
        "              embeddings_regularizer=l2(1e-6),\n",
        "              name='user-embedding')(user)\n",
        "u = Reshape((num_factors,), name='user-flatten')(u)\n",
        "\n",
        "movie = Input(shape=(1,), name='movie-input')\n",
        "m = Embedding(num_movies,\n",
        "              num_factors,\n",
        "              embeddings_initializer='he_normal',\n",
        "              embeddings_regularizer=l2(1e-6),\n",
        "              name='movie-embedding')(movie)\n",
        "m = Reshape((num_factors,), name='movie-flatten')(m)\n",
        "\n",
        "rating = Dot(axes=1, name='dot-product')([u, m])\n",
        "# Convert to rating scale.\n",
        "converted_rating = sigmoid(rating) * 5\n",
        "model = Model(inputs=[user, movie], outputs=converted_rating)\n",
        "model.compile(loss='mean_squared_error',\n",
        "              optimizer='adam')"
      ],
      "metadata": {
        "id": "Afin7OJUlj4h"
      },
      "execution_count": null,
      "outputs": []
    },
    {
      "cell_type": "code",
      "source": [
        "# history = model.fit(X_train_array, y_train, validation_split = 0.2, epochs=30)"
      ],
      "metadata": {
        "id": "sy-0WpGysURA"
      },
      "execution_count": null,
      "outputs": []
    },
    {
      "cell_type": "code",
      "source": [
        "# import matplotlib.pyplot as plt\n",
        "# plt.plot(history.history['loss'], label='Training Loss')\n",
        "# plt.plot(history.history['val_loss'], label='Validation Loss')\n",
        "# plt.xlabel('Epoch')\n",
        "# plt.ylabel('Loss')\n",
        "# plt.legend()\n",
        "# plt.show()"
      ],
      "metadata": {
        "id": "uLZSnfC0qIDB"
      },
      "execution_count": null,
      "outputs": []
    },
    {
      "cell_type": "markdown",
      "source": [
        "### ModelV11"
      ],
      "metadata": {
        "id": "AelCVoW4FSCc"
      }
    },
    {
      "cell_type": "code",
      "source": [
        "from keras.layers import Embedding, Flatten, Input, concatenate, Dropout, Dense\n",
        "from keras.activations import sigmoid\n",
        "\n",
        "num_factors = 50\n",
        "movie_input = Input(shape=[1],name='movie-input')\n",
        "movie_embedding = Embedding(num_movies,\n",
        "                            num_factors,\n",
        "                            name='movie-embedding')(movie_input)\n",
        "movie_vec = Flatten(name='movie-flatten')(movie_embedding)\n",
        "\n",
        "user_input = Input(shape=[1],name='user-input')\n",
        "user_embedding = Embedding(num_users,\n",
        "                           num_factors,\n",
        "                           name='user-embedding')(user_input)\n",
        "user_vec = Flatten(name='user-flatten')(user_embedding)\n",
        "\n",
        "concat = concatenate([movie_vec, user_vec], name='movie-user-concat')\n",
        "\n",
        "concat_dropout = Dropout(0.2)(concat)\n",
        "fc_1 = Dense(100, name='fc-1', activation='relu')(concat)\n",
        "fc_1_dropout = Dropout(0.2, name='fc-1-dropout')(fc_1)\n",
        "fc_2 = Dense(50, name='fc-2', activation='relu')(fc_1_dropout)\n",
        "fc_2_dropout = Dropout(0.2, name='fc-2-dropout')(fc_2)\n",
        "rating = Dense(1, name='rating')(fc_2_dropout)\n",
        "# Convert to rating scale.\n",
        "converted_rating = sigmoid(rating) * 5\n",
        "model = Model([user_input, movie_input], converted_rating)\n",
        "model.compile(loss = 'mean_squared_error', optimizer='adam')\n",
        "\n",
        "model.summary()\n",
        "\n"
      ],
      "metadata": {
        "colab": {
          "base_uri": "https://localhost:8080/"
        },
        "id": "i94xJj2Qtx4l",
        "outputId": "05793960-4898-4dac-ceb9-a7b8986eebc3"
      },
      "execution_count": null,
      "outputs": [
        {
          "output_type": "stream",
          "name": "stdout",
          "text": [
            "Model: \"model_26\"\n",
            "__________________________________________________________________________________________________\n",
            " Layer (type)                   Output Shape         Param #     Connected to                     \n",
            "==================================================================================================\n",
            " movie-input (InputLayer)       [(None, 1)]          0           []                               \n",
            "                                                                                                  \n",
            " user-input (InputLayer)        [(None, 1)]          0           []                               \n",
            "                                                                                                  \n",
            " movie-embedding (Embedding)    (None, 1, 50)        89300       ['movie-input[0][0]']            \n",
            "                                                                                                  \n",
            " user-embedding (Embedding)     (None, 1, 50)        33550       ['user-input[0][0]']             \n",
            "                                                                                                  \n",
            " movie-flatten (Flatten)        (None, 50)           0           ['movie-embedding[0][0]']        \n",
            "                                                                                                  \n",
            " user-flatten (Flatten)         (None, 50)           0           ['user-embedding[0][0]']         \n",
            "                                                                                                  \n",
            " movie-user-concat (Concatenate  (None, 100)         0           ['movie-flatten[0][0]',          \n",
            " )                                                                'user-flatten[0][0]']           \n",
            "                                                                                                  \n",
            " fc-1 (Dense)                   (None, 100)          10100       ['movie-user-concat[0][0]']      \n",
            "                                                                                                  \n",
            " fc-1-dropout (Dropout)         (None, 100)          0           ['fc-1[0][0]']                   \n",
            "                                                                                                  \n",
            " fc-2 (Dense)                   (None, 50)           5050        ['fc-1-dropout[0][0]']           \n",
            "                                                                                                  \n",
            " fc-2-dropout (Dropout)         (None, 50)           0           ['fc-2[0][0]']                   \n",
            "                                                                                                  \n",
            " rating (Dense)                 (None, 1)            51          ['fc-2-dropout[0][0]']           \n",
            "                                                                                                  \n",
            " tf.math.sigmoid_2 (TFOpLambda)  (None, 1)           0           ['rating[0][0]']                 \n",
            "                                                                                                  \n",
            " tf.math.multiply_2 (TFOpLambda  (None, 1)           0           ['tf.math.sigmoid_2[0][0]']      \n",
            " )                                                                                                \n",
            "                                                                                                  \n",
            "==================================================================================================\n",
            "Total params: 138,051\n",
            "Trainable params: 138,051\n",
            "Non-trainable params: 0\n",
            "__________________________________________________________________________________________________\n"
          ]
        }
      ]
    },
    {
      "cell_type": "code",
      "source": [
        "from IPython.display import SVG\n",
        "from keras.utils.vis_utils import model_to_dot"
      ],
      "metadata": {
        "id": "ZUe9vthWt7GU"
      },
      "execution_count": null,
      "outputs": []
    },
    {
      "cell_type": "code",
      "source": [
        "SVG(model_to_dot(model, show_shapes=True, dpi=80).create(prog='dot', format='svg'))"
      ],
      "metadata": {
        "colab": {
          "base_uri": "https://localhost:8080/",
          "height": 1000
        },
        "id": "E0XMgORht025",
        "outputId": "74f904ac-f623-4546-a44b-50bae7069139"
      },
      "execution_count": null,
      "outputs": [
        {
          "output_type": "execute_result",
          "data": {
            "text/plain": [
              "<IPython.core.display.SVG object>"
            ],
            "image/svg+xml": "<svg xmlns=\"http://www.w3.org/2000/svg\" xmlns:xlink=\"http://www.w3.org/1999/xlink\" width=\"596pt\" height=\"983pt\" viewBox=\"0.00 0.00 536.00 885.00\">\n<g id=\"graph0\" class=\"graph\" transform=\"scale(0.9 0.9) rotate(0) translate(4 881)\">\n<title>G</title>\n<polygon fill=\"white\" stroke=\"transparent\" points=\"-4,4 -4,-881 532,-881 532,4 -4,4\"/>\n<!-- 137953746744512 -->\n<g id=\"node1\" class=\"node\">\n<title>137953746744512</title>\n<polygon fill=\"none\" stroke=\"black\" points=\"22.5,-830.5 22.5,-876.5 238.5,-876.5 238.5,-830.5 22.5,-830.5\"/>\n<text text-anchor=\"middle\" x=\"64\" y=\"-861.3\" font-family=\"Times,serif\" font-size=\"14.00\">movie-input</text>\n<polyline fill=\"none\" stroke=\"black\" points=\"22.5,-853.5 105.5,-853.5 \"/>\n<text text-anchor=\"middle\" x=\"64\" y=\"-838.3\" font-family=\"Times,serif\" font-size=\"14.00\">InputLayer</text>\n<polyline fill=\"none\" stroke=\"black\" points=\"105.5,-830.5 105.5,-876.5 \"/>\n<text text-anchor=\"middle\" x=\"133\" y=\"-861.3\" font-family=\"Times,serif\" font-size=\"14.00\">input:</text>\n<polyline fill=\"none\" stroke=\"black\" points=\"105.5,-853.5 160.5,-853.5 \"/>\n<text text-anchor=\"middle\" x=\"133\" y=\"-838.3\" font-family=\"Times,serif\" font-size=\"14.00\">output:</text>\n<polyline fill=\"none\" stroke=\"black\" points=\"160.5,-830.5 160.5,-876.5 \"/>\n<text text-anchor=\"middle\" x=\"199.5\" y=\"-861.3\" font-family=\"Times,serif\" font-size=\"14.00\">[(None, 1)]</text>\n<polyline fill=\"none\" stroke=\"black\" points=\"160.5,-853.5 238.5,-853.5 \"/>\n<text text-anchor=\"middle\" x=\"199.5\" y=\"-838.3\" font-family=\"Times,serif\" font-size=\"14.00\">[(None, 1)]</text>\n</g>\n<!-- 137953746743408 -->\n<g id=\"node3\" class=\"node\">\n<title>137953746743408</title>\n<polygon fill=\"none\" stroke=\"black\" points=\"0,-747.5 0,-793.5 261,-793.5 261,-747.5 0,-747.5\"/>\n<text text-anchor=\"middle\" x=\"58\" y=\"-778.3\" font-family=\"Times,serif\" font-size=\"14.00\">movie-embedding</text>\n<polyline fill=\"none\" stroke=\"black\" points=\"0,-770.5 116,-770.5 \"/>\n<text text-anchor=\"middle\" x=\"58\" y=\"-755.3\" font-family=\"Times,serif\" font-size=\"14.00\">Embedding</text>\n<polyline fill=\"none\" stroke=\"black\" points=\"116,-747.5 116,-793.5 \"/>\n<text text-anchor=\"middle\" x=\"143.5\" y=\"-778.3\" font-family=\"Times,serif\" font-size=\"14.00\">input:</text>\n<polyline fill=\"none\" stroke=\"black\" points=\"116,-770.5 171,-770.5 \"/>\n<text text-anchor=\"middle\" x=\"143.5\" y=\"-755.3\" font-family=\"Times,serif\" font-size=\"14.00\">output:</text>\n<polyline fill=\"none\" stroke=\"black\" points=\"171,-747.5 171,-793.5 \"/>\n<text text-anchor=\"middle\" x=\"216\" y=\"-778.3\" font-family=\"Times,serif\" font-size=\"14.00\">(None, 1)</text>\n<polyline fill=\"none\" stroke=\"black\" points=\"171,-770.5 261,-770.5 \"/>\n<text text-anchor=\"middle\" x=\"216\" y=\"-755.3\" font-family=\"Times,serif\" font-size=\"14.00\">(None, 1, 50)</text>\n</g>\n<!-- 137953746744512&#45;&gt;137953746743408 -->\n<g id=\"edge1\" class=\"edge\">\n<title>137953746744512-&gt;137953746743408</title>\n<path fill=\"none\" stroke=\"black\" d=\"M130.5,-830.37C130.5,-822.15 130.5,-812.66 130.5,-803.73\"/>\n<polygon fill=\"black\" stroke=\"black\" points=\"134,-803.61 130.5,-793.61 127,-803.61 134,-803.61\"/>\n</g>\n<!-- 137953748870160 -->\n<g id=\"node2\" class=\"node\">\n<title>137953748870160</title>\n<polygon fill=\"none\" stroke=\"black\" points=\"298.5,-830.5 298.5,-876.5 508.5,-876.5 508.5,-830.5 298.5,-830.5\"/>\n<text text-anchor=\"middle\" x=\"337\" y=\"-861.3\" font-family=\"Times,serif\" font-size=\"14.00\">user-input</text>\n<polyline fill=\"none\" stroke=\"black\" points=\"298.5,-853.5 375.5,-853.5 \"/>\n<text text-anchor=\"middle\" x=\"337\" y=\"-838.3\" font-family=\"Times,serif\" font-size=\"14.00\">InputLayer</text>\n<polyline fill=\"none\" stroke=\"black\" points=\"375.5,-830.5 375.5,-876.5 \"/>\n<text text-anchor=\"middle\" x=\"403\" y=\"-861.3\" font-family=\"Times,serif\" font-size=\"14.00\">input:</text>\n<polyline fill=\"none\" stroke=\"black\" points=\"375.5,-853.5 430.5,-853.5 \"/>\n<text text-anchor=\"middle\" x=\"403\" y=\"-838.3\" font-family=\"Times,serif\" font-size=\"14.00\">output:</text>\n<polyline fill=\"none\" stroke=\"black\" points=\"430.5,-830.5 430.5,-876.5 \"/>\n<text text-anchor=\"middle\" x=\"469.5\" y=\"-861.3\" font-family=\"Times,serif\" font-size=\"14.00\">[(None, 1)]</text>\n<polyline fill=\"none\" stroke=\"black\" points=\"430.5,-853.5 508.5,-853.5 \"/>\n<text text-anchor=\"middle\" x=\"469.5\" y=\"-838.3\" font-family=\"Times,serif\" font-size=\"14.00\">[(None, 1)]</text>\n</g>\n<!-- 137953748872800 -->\n<g id=\"node4\" class=\"node\">\n<title>137953748872800</title>\n<polygon fill=\"none\" stroke=\"black\" points=\"279,-747.5 279,-793.5 528,-793.5 528,-747.5 279,-747.5\"/>\n<text text-anchor=\"middle\" x=\"331\" y=\"-778.3\" font-family=\"Times,serif\" font-size=\"14.00\">user-embedding</text>\n<polyline fill=\"none\" stroke=\"black\" points=\"279,-770.5 383,-770.5 \"/>\n<text text-anchor=\"middle\" x=\"331\" y=\"-755.3\" font-family=\"Times,serif\" font-size=\"14.00\">Embedding</text>\n<polyline fill=\"none\" stroke=\"black\" points=\"383,-747.5 383,-793.5 \"/>\n<text text-anchor=\"middle\" x=\"410.5\" y=\"-778.3\" font-family=\"Times,serif\" font-size=\"14.00\">input:</text>\n<polyline fill=\"none\" stroke=\"black\" points=\"383,-770.5 438,-770.5 \"/>\n<text text-anchor=\"middle\" x=\"410.5\" y=\"-755.3\" font-family=\"Times,serif\" font-size=\"14.00\">output:</text>\n<polyline fill=\"none\" stroke=\"black\" points=\"438,-747.5 438,-793.5 \"/>\n<text text-anchor=\"middle\" x=\"483\" y=\"-778.3\" font-family=\"Times,serif\" font-size=\"14.00\">(None, 1)</text>\n<polyline fill=\"none\" stroke=\"black\" points=\"438,-770.5 528,-770.5 \"/>\n<text text-anchor=\"middle\" x=\"483\" y=\"-755.3\" font-family=\"Times,serif\" font-size=\"14.00\">(None, 1, 50)</text>\n</g>\n<!-- 137953748870160&#45;&gt;137953748872800 -->\n<g id=\"edge2\" class=\"edge\">\n<title>137953748870160-&gt;137953748872800</title>\n<path fill=\"none\" stroke=\"black\" d=\"M403.5,-830.37C403.5,-822.15 403.5,-812.66 403.5,-803.73\"/>\n<polygon fill=\"black\" stroke=\"black\" points=\"407,-803.61 403.5,-793.61 400,-803.61 407,-803.61\"/>\n</g>\n<!-- 137953748866080 -->\n<g id=\"node5\" class=\"node\">\n<title>137953748866080</title>\n<polygon fill=\"none\" stroke=\"black\" points=\"26,-664.5 26,-710.5 261,-710.5 261,-664.5 26,-664.5\"/>\n<text text-anchor=\"middle\" x=\"71\" y=\"-695.3\" font-family=\"Times,serif\" font-size=\"14.00\">movie-flatten</text>\n<polyline fill=\"none\" stroke=\"black\" points=\"26,-687.5 116,-687.5 \"/>\n<text text-anchor=\"middle\" x=\"71\" y=\"-672.3\" font-family=\"Times,serif\" font-size=\"14.00\">Flatten</text>\n<polyline fill=\"none\" stroke=\"black\" points=\"116,-664.5 116,-710.5 \"/>\n<text text-anchor=\"middle\" x=\"143.5\" y=\"-695.3\" font-family=\"Times,serif\" font-size=\"14.00\">input:</text>\n<polyline fill=\"none\" stroke=\"black\" points=\"116,-687.5 171,-687.5 \"/>\n<text text-anchor=\"middle\" x=\"143.5\" y=\"-672.3\" font-family=\"Times,serif\" font-size=\"14.00\">output:</text>\n<polyline fill=\"none\" stroke=\"black\" points=\"171,-664.5 171,-710.5 \"/>\n<text text-anchor=\"middle\" x=\"216\" y=\"-695.3\" font-family=\"Times,serif\" font-size=\"14.00\">(None, 1, 50)</text>\n<polyline fill=\"none\" stroke=\"black\" points=\"171,-687.5 261,-687.5 \"/>\n<text text-anchor=\"middle\" x=\"216\" y=\"-672.3\" font-family=\"Times,serif\" font-size=\"14.00\">(None, 50)</text>\n</g>\n<!-- 137953746743408&#45;&gt;137953748866080 -->\n<g id=\"edge3\" class=\"edge\">\n<title>137953746743408-&gt;137953748866080</title>\n<path fill=\"none\" stroke=\"black\" d=\"M134.05,-747.37C135.37,-739.15 136.89,-729.66 138.33,-720.73\"/>\n<polygon fill=\"black\" stroke=\"black\" points=\"141.82,-721.04 139.95,-710.61 134.91,-719.93 141.82,-721.04\"/>\n</g>\n<!-- 137953748864256 -->\n<g id=\"node6\" class=\"node\">\n<title>137953748864256</title>\n<polygon fill=\"none\" stroke=\"black\" points=\"285,-664.5 285,-710.5 508,-710.5 508,-664.5 285,-664.5\"/>\n<text text-anchor=\"middle\" x=\"324\" y=\"-695.3\" font-family=\"Times,serif\" font-size=\"14.00\">user-flatten</text>\n<polyline fill=\"none\" stroke=\"black\" points=\"285,-687.5 363,-687.5 \"/>\n<text text-anchor=\"middle\" x=\"324\" y=\"-672.3\" font-family=\"Times,serif\" font-size=\"14.00\">Flatten</text>\n<polyline fill=\"none\" stroke=\"black\" points=\"363,-664.5 363,-710.5 \"/>\n<text text-anchor=\"middle\" x=\"390.5\" y=\"-695.3\" font-family=\"Times,serif\" font-size=\"14.00\">input:</text>\n<polyline fill=\"none\" stroke=\"black\" points=\"363,-687.5 418,-687.5 \"/>\n<text text-anchor=\"middle\" x=\"390.5\" y=\"-672.3\" font-family=\"Times,serif\" font-size=\"14.00\">output:</text>\n<polyline fill=\"none\" stroke=\"black\" points=\"418,-664.5 418,-710.5 \"/>\n<text text-anchor=\"middle\" x=\"463\" y=\"-695.3\" font-family=\"Times,serif\" font-size=\"14.00\">(None, 1, 50)</text>\n<polyline fill=\"none\" stroke=\"black\" points=\"418,-687.5 508,-687.5 \"/>\n<text text-anchor=\"middle\" x=\"463\" y=\"-672.3\" font-family=\"Times,serif\" font-size=\"14.00\">(None, 50)</text>\n</g>\n<!-- 137953748872800&#45;&gt;137953748864256 -->\n<g id=\"edge4\" class=\"edge\">\n<title>137953748872800-&gt;137953748864256</title>\n<path fill=\"none\" stroke=\"black\" d=\"M401.59,-747.37C400.88,-739.15 400.06,-729.66 399.28,-720.73\"/>\n<polygon fill=\"black\" stroke=\"black\" points=\"402.76,-720.27 398.41,-710.61 395.78,-720.87 402.76,-720.27\"/>\n</g>\n<!-- 137953755267568 -->\n<g id=\"node7\" class=\"node\">\n<title>137953755267568</title>\n<polygon fill=\"none\" stroke=\"black\" points=\"104,-581.5 104,-627.5 429,-627.5 429,-581.5 104,-581.5\"/>\n<text text-anchor=\"middle\" x=\"163\" y=\"-612.3\" font-family=\"Times,serif\" font-size=\"14.00\">movie-user-concat</text>\n<polyline fill=\"none\" stroke=\"black\" points=\"104,-604.5 222,-604.5 \"/>\n<text text-anchor=\"middle\" x=\"163\" y=\"-589.3\" font-family=\"Times,serif\" font-size=\"14.00\">Concatenate</text>\n<polyline fill=\"none\" stroke=\"black\" points=\"222,-581.5 222,-627.5 \"/>\n<text text-anchor=\"middle\" x=\"249.5\" y=\"-612.3\" font-family=\"Times,serif\" font-size=\"14.00\">input:</text>\n<polyline fill=\"none\" stroke=\"black\" points=\"222,-604.5 277,-604.5 \"/>\n<text text-anchor=\"middle\" x=\"249.5\" y=\"-589.3\" font-family=\"Times,serif\" font-size=\"14.00\">output:</text>\n<polyline fill=\"none\" stroke=\"black\" points=\"277,-581.5 277,-627.5 \"/>\n<text text-anchor=\"middle\" x=\"353\" y=\"-612.3\" font-family=\"Times,serif\" font-size=\"14.00\">[(None, 50), (None, 50)]</text>\n<polyline fill=\"none\" stroke=\"black\" points=\"277,-604.5 429,-604.5 \"/>\n<text text-anchor=\"middle\" x=\"353\" y=\"-589.3\" font-family=\"Times,serif\" font-size=\"14.00\">(None, 100)</text>\n</g>\n<!-- 137953748866080&#45;&gt;137953755267568 -->\n<g id=\"edge5\" class=\"edge\">\n<title>137953748866080-&gt;137953755267568</title>\n<path fill=\"none\" stroke=\"black\" d=\"M177.11,-664.37C191.75,-654.72 209.07,-643.32 224.55,-633.13\"/>\n<polygon fill=\"black\" stroke=\"black\" points=\"226.5,-636.03 232.93,-627.61 222.65,-630.18 226.5,-636.03\"/>\n</g>\n<!-- 137953748864256&#45;&gt;137953755267568 -->\n<g id=\"edge6\" class=\"edge\">\n<title>137953748864256-&gt;137953755267568</title>\n<path fill=\"none\" stroke=\"black\" d=\"M360.98,-664.37C345.5,-654.72 327.19,-643.32 310.84,-633.13\"/>\n<polygon fill=\"black\" stroke=\"black\" points=\"312.32,-629.92 301.98,-627.61 308.62,-635.87 312.32,-629.92\"/>\n</g>\n<!-- 137953748429424 -->\n<g id=\"node8\" class=\"node\">\n<title>137953748429424</title>\n<polygon fill=\"none\" stroke=\"black\" points=\"172.5,-498.5 172.5,-544.5 360.5,-544.5 360.5,-498.5 172.5,-498.5\"/>\n<text text-anchor=\"middle\" x=\"197.5\" y=\"-529.3\" font-family=\"Times,serif\" font-size=\"14.00\">fc-1</text>\n<polyline fill=\"none\" stroke=\"black\" points=\"172.5,-521.5 222.5,-521.5 \"/>\n<text text-anchor=\"middle\" x=\"197.5\" y=\"-506.3\" font-family=\"Times,serif\" font-size=\"14.00\">Dense</text>\n<polyline fill=\"none\" stroke=\"black\" points=\"222.5,-498.5 222.5,-544.5 \"/>\n<text text-anchor=\"middle\" x=\"250\" y=\"-529.3\" font-family=\"Times,serif\" font-size=\"14.00\">input:</text>\n<polyline fill=\"none\" stroke=\"black\" points=\"222.5,-521.5 277.5,-521.5 \"/>\n<text text-anchor=\"middle\" x=\"250\" y=\"-506.3\" font-family=\"Times,serif\" font-size=\"14.00\">output:</text>\n<polyline fill=\"none\" stroke=\"black\" points=\"277.5,-498.5 277.5,-544.5 \"/>\n<text text-anchor=\"middle\" x=\"319\" y=\"-529.3\" font-family=\"Times,serif\" font-size=\"14.00\">(None, 100)</text>\n<polyline fill=\"none\" stroke=\"black\" points=\"277.5,-521.5 360.5,-521.5 \"/>\n<text text-anchor=\"middle\" x=\"319\" y=\"-506.3\" font-family=\"Times,serif\" font-size=\"14.00\">(None, 100)</text>\n</g>\n<!-- 137953755267568&#45;&gt;137953748429424 -->\n<g id=\"edge7\" class=\"edge\">\n<title>137953755267568-&gt;137953748429424</title>\n<path fill=\"none\" stroke=\"black\" d=\"M266.5,-581.37C266.5,-573.15 266.5,-563.66 266.5,-554.73\"/>\n<polygon fill=\"black\" stroke=\"black\" points=\"270,-554.61 266.5,-544.61 263,-554.61 270,-554.61\"/>\n</g>\n<!-- 137953748432112 -->\n<g id=\"node9\" class=\"node\">\n<title>137953748432112</title>\n<polygon fill=\"none\" stroke=\"black\" points=\"155,-415.5 155,-461.5 378,-461.5 378,-415.5 155,-415.5\"/>\n<text text-anchor=\"middle\" x=\"197.5\" y=\"-446.3\" font-family=\"Times,serif\" font-size=\"14.00\">fc-1-dropout</text>\n<polyline fill=\"none\" stroke=\"black\" points=\"155,-438.5 240,-438.5 \"/>\n<text text-anchor=\"middle\" x=\"197.5\" y=\"-423.3\" font-family=\"Times,serif\" font-size=\"14.00\">Dropout</text>\n<polyline fill=\"none\" stroke=\"black\" points=\"240,-415.5 240,-461.5 \"/>\n<text text-anchor=\"middle\" x=\"267.5\" y=\"-446.3\" font-family=\"Times,serif\" font-size=\"14.00\">input:</text>\n<polyline fill=\"none\" stroke=\"black\" points=\"240,-438.5 295,-438.5 \"/>\n<text text-anchor=\"middle\" x=\"267.5\" y=\"-423.3\" font-family=\"Times,serif\" font-size=\"14.00\">output:</text>\n<polyline fill=\"none\" stroke=\"black\" points=\"295,-415.5 295,-461.5 \"/>\n<text text-anchor=\"middle\" x=\"336.5\" y=\"-446.3\" font-family=\"Times,serif\" font-size=\"14.00\">(None, 100)</text>\n<polyline fill=\"none\" stroke=\"black\" points=\"295,-438.5 378,-438.5 \"/>\n<text text-anchor=\"middle\" x=\"336.5\" y=\"-423.3\" font-family=\"Times,serif\" font-size=\"14.00\">(None, 100)</text>\n</g>\n<!-- 137953748429424&#45;&gt;137953748432112 -->\n<g id=\"edge8\" class=\"edge\">\n<title>137953748429424-&gt;137953748432112</title>\n<path fill=\"none\" stroke=\"black\" d=\"M266.5,-498.37C266.5,-490.15 266.5,-480.66 266.5,-471.73\"/>\n<polygon fill=\"black\" stroke=\"black\" points=\"270,-471.61 266.5,-461.61 263,-471.61 270,-471.61\"/>\n</g>\n<!-- 137953748473008 -->\n<g id=\"node10\" class=\"node\">\n<title>137953748473008</title>\n<polygon fill=\"none\" stroke=\"black\" points=\"172.5,-332.5 172.5,-378.5 360.5,-378.5 360.5,-332.5 172.5,-332.5\"/>\n<text text-anchor=\"middle\" x=\"197.5\" y=\"-363.3\" font-family=\"Times,serif\" font-size=\"14.00\">fc-2</text>\n<polyline fill=\"none\" stroke=\"black\" points=\"172.5,-355.5 222.5,-355.5 \"/>\n<text text-anchor=\"middle\" x=\"197.5\" y=\"-340.3\" font-family=\"Times,serif\" font-size=\"14.00\">Dense</text>\n<polyline fill=\"none\" stroke=\"black\" points=\"222.5,-332.5 222.5,-378.5 \"/>\n<text text-anchor=\"middle\" x=\"250\" y=\"-363.3\" font-family=\"Times,serif\" font-size=\"14.00\">input:</text>\n<polyline fill=\"none\" stroke=\"black\" points=\"222.5,-355.5 277.5,-355.5 \"/>\n<text text-anchor=\"middle\" x=\"250\" y=\"-340.3\" font-family=\"Times,serif\" font-size=\"14.00\">output:</text>\n<polyline fill=\"none\" stroke=\"black\" points=\"277.5,-332.5 277.5,-378.5 \"/>\n<text text-anchor=\"middle\" x=\"319\" y=\"-363.3\" font-family=\"Times,serif\" font-size=\"14.00\">(None, 100)</text>\n<polyline fill=\"none\" stroke=\"black\" points=\"277.5,-355.5 360.5,-355.5 \"/>\n<text text-anchor=\"middle\" x=\"319\" y=\"-340.3\" font-family=\"Times,serif\" font-size=\"14.00\">(None, 50)</text>\n</g>\n<!-- 137953748432112&#45;&gt;137953748473008 -->\n<g id=\"edge9\" class=\"edge\">\n<title>137953748432112-&gt;137953748473008</title>\n<path fill=\"none\" stroke=\"black\" d=\"M266.5,-415.37C266.5,-407.15 266.5,-397.66 266.5,-388.73\"/>\n<polygon fill=\"black\" stroke=\"black\" points=\"270,-388.61 266.5,-378.61 263,-388.61 270,-388.61\"/>\n</g>\n<!-- 137953748863200 -->\n<g id=\"node11\" class=\"node\">\n<title>137953748863200</title>\n<polygon fill=\"none\" stroke=\"black\" points=\"158.5,-249.5 158.5,-295.5 374.5,-295.5 374.5,-249.5 158.5,-249.5\"/>\n<text text-anchor=\"middle\" x=\"201\" y=\"-280.3\" font-family=\"Times,serif\" font-size=\"14.00\">fc-2-dropout</text>\n<polyline fill=\"none\" stroke=\"black\" points=\"158.5,-272.5 243.5,-272.5 \"/>\n<text text-anchor=\"middle\" x=\"201\" y=\"-257.3\" font-family=\"Times,serif\" font-size=\"14.00\">Dropout</text>\n<polyline fill=\"none\" stroke=\"black\" points=\"243.5,-249.5 243.5,-295.5 \"/>\n<text text-anchor=\"middle\" x=\"271\" y=\"-280.3\" font-family=\"Times,serif\" font-size=\"14.00\">input:</text>\n<polyline fill=\"none\" stroke=\"black\" points=\"243.5,-272.5 298.5,-272.5 \"/>\n<text text-anchor=\"middle\" x=\"271\" y=\"-257.3\" font-family=\"Times,serif\" font-size=\"14.00\">output:</text>\n<polyline fill=\"none\" stroke=\"black\" points=\"298.5,-249.5 298.5,-295.5 \"/>\n<text text-anchor=\"middle\" x=\"336.5\" y=\"-280.3\" font-family=\"Times,serif\" font-size=\"14.00\">(None, 50)</text>\n<polyline fill=\"none\" stroke=\"black\" points=\"298.5,-272.5 374.5,-272.5 \"/>\n<text text-anchor=\"middle\" x=\"336.5\" y=\"-257.3\" font-family=\"Times,serif\" font-size=\"14.00\">(None, 50)</text>\n</g>\n<!-- 137953748473008&#45;&gt;137953748863200 -->\n<g id=\"edge10\" class=\"edge\">\n<title>137953748473008-&gt;137953748863200</title>\n<path fill=\"none\" stroke=\"black\" d=\"M266.5,-332.37C266.5,-324.15 266.5,-314.66 266.5,-305.73\"/>\n<polygon fill=\"black\" stroke=\"black\" points=\"270,-305.61 266.5,-295.61 263,-305.61 270,-305.61\"/>\n</g>\n<!-- 137953748871216 -->\n<g id=\"node12\" class=\"node\">\n<title>137953748871216</title>\n<polygon fill=\"none\" stroke=\"black\" points=\"176,-166.5 176,-212.5 357,-212.5 357,-166.5 176,-166.5\"/>\n<text text-anchor=\"middle\" x=\"201\" y=\"-197.3\" font-family=\"Times,serif\" font-size=\"14.00\">rating</text>\n<polyline fill=\"none\" stroke=\"black\" points=\"176,-189.5 226,-189.5 \"/>\n<text text-anchor=\"middle\" x=\"201\" y=\"-174.3\" font-family=\"Times,serif\" font-size=\"14.00\">Dense</text>\n<polyline fill=\"none\" stroke=\"black\" points=\"226,-166.5 226,-212.5 \"/>\n<text text-anchor=\"middle\" x=\"253.5\" y=\"-197.3\" font-family=\"Times,serif\" font-size=\"14.00\">input:</text>\n<polyline fill=\"none\" stroke=\"black\" points=\"226,-189.5 281,-189.5 \"/>\n<text text-anchor=\"middle\" x=\"253.5\" y=\"-174.3\" font-family=\"Times,serif\" font-size=\"14.00\">output:</text>\n<polyline fill=\"none\" stroke=\"black\" points=\"281,-166.5 281,-212.5 \"/>\n<text text-anchor=\"middle\" x=\"319\" y=\"-197.3\" font-family=\"Times,serif\" font-size=\"14.00\">(None, 50)</text>\n<polyline fill=\"none\" stroke=\"black\" points=\"281,-189.5 357,-189.5 \"/>\n<text text-anchor=\"middle\" x=\"319\" y=\"-174.3\" font-family=\"Times,serif\" font-size=\"14.00\">(None, 1)</text>\n</g>\n<!-- 137953748863200&#45;&gt;137953748871216 -->\n<g id=\"edge11\" class=\"edge\">\n<title>137953748863200-&gt;137953748871216</title>\n<path fill=\"none\" stroke=\"black\" d=\"M266.5,-249.37C266.5,-241.15 266.5,-231.66 266.5,-222.73\"/>\n<polygon fill=\"black\" stroke=\"black\" points=\"270,-222.61 266.5,-212.61 263,-222.61 270,-222.61\"/>\n</g>\n<!-- 137953748472096 -->\n<g id=\"node13\" class=\"node\">\n<title>137953748472096</title>\n<polygon fill=\"none\" stroke=\"black\" points=\"145.5,-83.5 145.5,-129.5 387.5,-129.5 387.5,-83.5 145.5,-83.5\"/>\n<text text-anchor=\"middle\" x=\"204.5\" y=\"-114.3\" font-family=\"Times,serif\" font-size=\"14.00\">tf.math.sigmoid_2</text>\n<polyline fill=\"none\" stroke=\"black\" points=\"145.5,-106.5 263.5,-106.5 \"/>\n<text text-anchor=\"middle\" x=\"204.5\" y=\"-91.3\" font-family=\"Times,serif\" font-size=\"14.00\">TFOpLambda</text>\n<polyline fill=\"none\" stroke=\"black\" points=\"263.5,-83.5 263.5,-129.5 \"/>\n<text text-anchor=\"middle\" x=\"291\" y=\"-114.3\" font-family=\"Times,serif\" font-size=\"14.00\">input:</text>\n<polyline fill=\"none\" stroke=\"black\" points=\"263.5,-106.5 318.5,-106.5 \"/>\n<text text-anchor=\"middle\" x=\"291\" y=\"-91.3\" font-family=\"Times,serif\" font-size=\"14.00\">output:</text>\n<polyline fill=\"none\" stroke=\"black\" points=\"318.5,-83.5 318.5,-129.5 \"/>\n<text text-anchor=\"middle\" x=\"353\" y=\"-114.3\" font-family=\"Times,serif\" font-size=\"14.00\">(None, 1)</text>\n<polyline fill=\"none\" stroke=\"black\" points=\"318.5,-106.5 387.5,-106.5 \"/>\n<text text-anchor=\"middle\" x=\"353\" y=\"-91.3\" font-family=\"Times,serif\" font-size=\"14.00\">(None, 1)</text>\n</g>\n<!-- 137953748871216&#45;&gt;137953748472096 -->\n<g id=\"edge12\" class=\"edge\">\n<title>137953748871216-&gt;137953748472096</title>\n<path fill=\"none\" stroke=\"black\" d=\"M266.5,-166.37C266.5,-158.15 266.5,-148.66 266.5,-139.73\"/>\n<polygon fill=\"black\" stroke=\"black\" points=\"270,-139.61 266.5,-129.61 263,-139.61 270,-139.61\"/>\n</g>\n<!-- 137953748421936 -->\n<g id=\"node14\" class=\"node\">\n<title>137953748421936</title>\n<polygon fill=\"none\" stroke=\"black\" points=\"144.5,-0.5 144.5,-46.5 388.5,-46.5 388.5,-0.5 144.5,-0.5\"/>\n<text text-anchor=\"middle\" x=\"204.5\" y=\"-31.3\" font-family=\"Times,serif\" font-size=\"14.00\">tf.math.multiply_2</text>\n<polyline fill=\"none\" stroke=\"black\" points=\"144.5,-23.5 264.5,-23.5 \"/>\n<text text-anchor=\"middle\" x=\"204.5\" y=\"-8.3\" font-family=\"Times,serif\" font-size=\"14.00\">TFOpLambda</text>\n<polyline fill=\"none\" stroke=\"black\" points=\"264.5,-0.5 264.5,-46.5 \"/>\n<text text-anchor=\"middle\" x=\"292\" y=\"-31.3\" font-family=\"Times,serif\" font-size=\"14.00\">input:</text>\n<polyline fill=\"none\" stroke=\"black\" points=\"264.5,-23.5 319.5,-23.5 \"/>\n<text text-anchor=\"middle\" x=\"292\" y=\"-8.3\" font-family=\"Times,serif\" font-size=\"14.00\">output:</text>\n<polyline fill=\"none\" stroke=\"black\" points=\"319.5,-0.5 319.5,-46.5 \"/>\n<text text-anchor=\"middle\" x=\"354\" y=\"-31.3\" font-family=\"Times,serif\" font-size=\"14.00\">(None, 1)</text>\n<polyline fill=\"none\" stroke=\"black\" points=\"319.5,-23.5 388.5,-23.5 \"/>\n<text text-anchor=\"middle\" x=\"354\" y=\"-8.3\" font-family=\"Times,serif\" font-size=\"14.00\">(None, 1)</text>\n</g>\n<!-- 137953748472096&#45;&gt;137953748421936 -->\n<g id=\"edge13\" class=\"edge\">\n<title>137953748472096-&gt;137953748421936</title>\n<path fill=\"none\" stroke=\"black\" d=\"M266.5,-83.37C266.5,-75.15 266.5,-65.66 266.5,-56.73\"/>\n<polygon fill=\"black\" stroke=\"black\" points=\"270,-56.61 266.5,-46.61 263,-56.61 270,-56.61\"/>\n</g>\n</g>\n</svg>"
          },
          "metadata": {},
          "execution_count": 193
        }
      ]
    },
    {
      "cell_type": "code",
      "source": [
        "\n",
        "# history = model.fit(X_train_array, y_train, validation_split = 0.2, epochs=30)"
      ],
      "metadata": {
        "id": "prnTnx78t2Vu"
      },
      "execution_count": null,
      "outputs": []
    },
    {
      "cell_type": "code",
      "source": [
        "# import matplotlib.pyplot as plt\n",
        "# plt.plot(history.history['loss'], label='Training Loss')\n",
        "# plt.plot(history.history['val_loss'], label='Validation Loss')\n",
        "# plt.xlabel('Epoch')\n",
        "# plt.ylabel('Loss')\n",
        "# plt.legend()\n",
        "# plt.show()"
      ],
      "metadata": {
        "id": "z5Bs3qItuBP8"
      },
      "execution_count": null,
      "outputs": []
    },
    {
      "cell_type": "markdown",
      "source": [
        "### ModelV12"
      ],
      "metadata": {
        "id": "2sQz8YY0FUOp"
      }
    },
    {
      "cell_type": "code",
      "source": [],
      "metadata": {
        "id": "M2m7w98Vx1Es"
      },
      "execution_count": null,
      "outputs": []
    },
    {
      "cell_type": "code",
      "source": [
        "df = data.sample(frac=1, random_state=42)\n",
        "x = df[[\"user\", \"movie\"]].values\n",
        "# Normalize the targets between 0 and 1. Makes it easy to train.\n",
        "y = df[\"rating\"].apply(lambda x: (x - min_rating) / (max_rating - min_rating)).values\n",
        "# Assuming training on 90% of the data and validating on 10%.\n",
        "train_indices = int(0.9 * df.shape[0])\n",
        "x_train, x_val, y_train, y_val = (\n",
        "    x[:train_indices],\n",
        "    x[train_indices:],\n",
        "    y[:train_indices],\n",
        "    y[train_indices:],)"
      ],
      "metadata": {
        "id": "ek16o9_fxmey"
      },
      "execution_count": null,
      "outputs": []
    },
    {
      "cell_type": "code",
      "source": [
        "\n",
        "\n",
        "\n",
        "class RecommenderNet(keras.Model):\n",
        "    def __init__(self, num_users, num_movies, embedding_size, **kwargs):\n",
        "        super(RecommenderNet, self).__init__(**kwargs)\n",
        "        self.num_users = num_users\n",
        "        self.num_movies = num_movies\n",
        "        self.embedding_size = embedding_size\n",
        "        self.user_embedding = layers.Embedding(\n",
        "            num_users,\n",
        "            embedding_size,\n",
        "            embeddings_initializer=\"he_normal\",\n",
        "            embeddings_regularizer=keras.regularizers.l2(1e-6),\n",
        "        )\n",
        "        self.user_bias = layers.Embedding(num_users, 1)\n",
        "        self.movie_embedding = layers.Embedding(\n",
        "            num_movies,\n",
        "            embedding_size,\n",
        "            embeddings_initializer=\"he_normal\",\n",
        "            embeddings_regularizer=keras.regularizers.l2(1e-6),\n",
        "        )\n",
        "        self.movie_bias = layers.Embedding(num_movies, 1)\n",
        "\n",
        "    def call(self, inputs):\n",
        "        user_vector = self.user_embedding(inputs[:, 0])\n",
        "        user_bias = self.user_bias(inputs[:, 0])\n",
        "        movie_vector = self.movie_embedding(inputs[:, 1])\n",
        "        movie_bias = self.movie_bias(inputs[:, 1])\n",
        "        dot_user_movie = tf.tensordot(user_vector, movie_vector, 2)\n",
        "        # Add all the components (including bias)\n",
        "        x = dot_user_movie + user_bias + movie_bias\n",
        "        # The sigmoid activation forces the rating to between 0 and 1\n",
        "        return tf.nn.sigmoid(x)\n",
        "\n",
        "\n",
        "model = RecommenderNet(num_users, num_movies, EMBEDDING_SIZE)\n",
        "\n",
        "lr = ReduceLROnPlateau(patience=4, verbose=1, min_lr=0.000001)\n",
        "\n",
        "model.compile(\n",
        "    loss=tf.keras.losses.BinaryCrossentropy(), optimizer=keras.optimizers.Adam(lr=0.001)\n",
        ")"
      ],
      "metadata": {
        "colab": {
          "base_uri": "https://localhost:8080/"
        },
        "id": "6M_eH8x1xreH",
        "outputId": "f1d8004b-753f-464b-dd37-ed4e4d48c8bc"
      },
      "execution_count": null,
      "outputs": [
        {
          "output_type": "stream",
          "name": "stderr",
          "text": [
            "WARNING:absl:`lr` is deprecated in Keras optimizer, please use `learning_rate` or use the legacy optimizer, e.g.,tf.keras.optimizers.legacy.Adam.\n"
          ]
        }
      ]
    },
    {
      "cell_type": "code",
      "source": [
        "history = model.fit(\n",
        "    x=x_train,\n",
        "    y=y_train,\n",
        "    batch_size=64,\n",
        "    epochs=25,\n",
        "    verbose=1,\n",
        "    validation_data=(x_val, y_val),\n",
        "    callbacks = [lr])"
      ],
      "metadata": {
        "id": "4Nw97XFbx7I2",
        "colab": {
          "base_uri": "https://localhost:8080/"
        },
        "outputId": "369962f7-4b5c-4d46-d378-1b7ade6c7d99"
      },
      "execution_count": null,
      "outputs": [
        {
          "output_type": "stream",
          "name": "stdout",
          "text": [
            "Epoch 1/25\n",
            "444/444 [==============================] - 3s 5ms/step - loss: 0.6510 - val_loss: 0.6236 - lr: 0.0010\n",
            "Epoch 2/25\n",
            "444/444 [==============================] - 2s 5ms/step - loss: 0.6260 - val_loss: 0.6776 - lr: 0.0010\n",
            "Epoch 3/25\n",
            "444/444 [==============================] - 2s 5ms/step - loss: 0.6246 - val_loss: 0.6135 - lr: 0.0010\n",
            "Epoch 4/25\n",
            "444/444 [==============================] - 3s 7ms/step - loss: 0.6162 - val_loss: 0.6647 - lr: 0.0010\n",
            "Epoch 5/25\n",
            "444/444 [==============================] - 3s 6ms/step - loss: 0.6145 - val_loss: 0.6117 - lr: 0.0010\n",
            "Epoch 6/25\n",
            "444/444 [==============================] - 2s 5ms/step - loss: 0.6111 - val_loss: 0.6637 - lr: 0.0010\n",
            "Epoch 7/25\n",
            "444/444 [==============================] - 2s 4ms/step - loss: 0.6148 - val_loss: 0.6075 - lr: 0.0010\n",
            "Epoch 8/25\n",
            "444/444 [==============================] - 2s 4ms/step - loss: 0.6120 - val_loss: 0.6624 - lr: 0.0010\n",
            "Epoch 9/25\n",
            "444/444 [==============================] - 2s 5ms/step - loss: 0.6146 - val_loss: 0.6052 - lr: 0.0010\n",
            "Epoch 10/25\n",
            "444/444 [==============================] - 3s 7ms/step - loss: 0.6130 - val_loss: 0.6574 - lr: 0.0010\n",
            "Epoch 11/25\n",
            "444/444 [==============================] - 3s 7ms/step - loss: 0.6135 - val_loss: 0.6050 - lr: 0.0010\n",
            "Epoch 12/25\n",
            "444/444 [==============================] - 2s 5ms/step - loss: 0.6093 - val_loss: 0.6553 - lr: 0.0010\n",
            "Epoch 13/25\n",
            "444/444 [==============================] - 2s 4ms/step - loss: 0.6152 - val_loss: 0.6061 - lr: 0.0010\n",
            "Epoch 14/25\n",
            "444/444 [==============================] - 2s 4ms/step - loss: 0.6116 - val_loss: 0.6554 - lr: 0.0010\n",
            "Epoch 15/25\n",
            "444/444 [==============================] - 2s 5ms/step - loss: 0.6130 - val_loss: 0.6005 - lr: 0.0010\n",
            "Epoch 16/25\n",
            "444/444 [==============================] - 2s 6ms/step - loss: 0.6140 - val_loss: 0.6509 - lr: 0.0010\n",
            "Epoch 17/25\n",
            "444/444 [==============================] - 3s 8ms/step - loss: 0.6189 - val_loss: 0.5999 - lr: 0.0010\n",
            "Epoch 18/25\n",
            "444/444 [==============================] - 2s 5ms/step - loss: 0.6135 - val_loss: 0.6606 - lr: 0.0010\n",
            "Epoch 19/25\n",
            "444/444 [==============================] - 2s 5ms/step - loss: 0.6223 - val_loss: 0.6014 - lr: 0.0010\n",
            "Epoch 20/25\n",
            "444/444 [==============================] - 2s 4ms/step - loss: 0.6179 - val_loss: 0.6537 - lr: 0.0010\n",
            "Epoch 21/25\n",
            "444/444 [==============================] - 2s 4ms/step - loss: 0.6203 - val_loss: 0.5997 - lr: 0.0010\n",
            "Epoch 22/25\n",
            "444/444 [==============================] - 2s 4ms/step - loss: 0.6119 - val_loss: 0.6447 - lr: 0.0010\n",
            "Epoch 23/25\n",
            "444/444 [==============================] - 4s 8ms/step - loss: 0.6081 - val_loss: 0.5978 - lr: 0.0010\n",
            "Epoch 24/25\n",
            "444/444 [==============================] - 2s 5ms/step - loss: 0.6035 - val_loss: 0.6394 - lr: 0.0010\n",
            "Epoch 25/25\n",
            "444/444 [==============================] - 2s 4ms/step - loss: 0.6048 - val_loss: 0.5979 - lr: 0.0010\n"
          ]
        }
      ]
    },
    {
      "cell_type": "code",
      "source": [
        "import matplotlib.pyplot as plt\n",
        "plt.plot(history.history['loss'], label='Training Loss')\n",
        "plt.plot(history.history['val_loss'], label='Validation Loss')\n",
        "plt.xlabel('Epoch')\n",
        "plt.ylabel('Loss')\n",
        "plt.legend()\n",
        "plt.show()"
      ],
      "metadata": {
        "id": "fplz34fEyJx9",
        "colab": {
          "base_uri": "https://localhost:8080/",
          "height": 449
        },
        "outputId": "c92ecf48-a8eb-4091-bbd9-e2381241bdeb"
      },
      "execution_count": null,
      "outputs": [
        {
          "output_type": "display_data",
          "data": {
            "text/plain": [
              "<Figure size 640x480 with 1 Axes>"
            ],
            "image/png": "[encoded data removed]"
          },
          "metadata": {}
        }
      ]
    },
    {
      "cell_type": "markdown",
      "source": [
        "###ModelV14"
      ],
      "metadata": {
        "id": "eZ5F72bvMyCu"
      }
    },
    {
      "cell_type": "code",
      "source": [
        "class RecommenderNet(keras.Model):\n",
        "    def __init__(self, num_users, num_movies, embedding_size, **kwargs):\n",
        "        super(RecommenderNet, self).__init__(**kwargs)\n",
        "        self.num_users = num_users\n",
        "        self.num_movies = num_movies\n",
        "        self.embedding_size = embedding_size\n",
        "        self.user_embedding = layers.Embedding(\n",
        "            num_users,\n",
        "            embedding_size,\n",
        "            embeddings_initializer=\"he_normal\",\n",
        "            embeddings_regularizer=keras.regularizers.l2(1e-6),\n",
        "        )\n",
        "        self.user_bias = layers.Embedding(num_users, 1)\n",
        "        self.movie_embedding = layers.Embedding(\n",
        "            num_movies,\n",
        "            embedding_size,\n",
        "            embeddings_initializer=\"he_normal\",\n",
        "            embeddings_regularizer=keras.regularizers.l2(1e-6),\n",
        "        )\n",
        "        self.movie_bias = layers.Embedding(num_movies, 1)\n",
        "        self.flatten = layers.Flatten()\n",
        "        self.dense = layers.Dense(1, activation=\"relu\")\n",
        "\n",
        "    def call(self, inputs):\n",
        "        user_vector = self.user_embedding(inputs[:, 0])\n",
        "        user_bias = self.user_bias(inputs[:, 0])\n",
        "        movie_vector = self.movie_embedding(inputs[:, 1])\n",
        "        movie_bias = self.movie_bias(inputs[:, 1])\n",
        "        dot_user_movie = tf.tensordot(user_vector, movie_vector, 2)\n",
        "        x = dot_user_movie + user_bias + movie_bias\n",
        "        x = self.flatten(x)\n",
        "        x = self.dense(x)\n",
        "        return x\n"
      ],
      "metadata": {
        "id": "joJP6U19M2Wb"
      },
      "execution_count": null,
      "outputs": []
    },
    {
      "cell_type": "code",
      "source": [
        "model = RecommenderNet(num_users, num_movies, EMBEDDING_SIZE)\n",
        "model.compile(\n",
        "    loss=\"mean_squared_error\",\n",
        "    optimizer=keras.optimizers.Adam(),\n",
        ")"
      ],
      "metadata": {
        "id": "YxCJnbYcM2Wc"
      },
      "execution_count": null,
      "outputs": []
    },
    {
      "cell_type": "code",
      "source": [
        "history = model.fit(x=x_train, y=y_train, epochs=25, batch_size=64,  validation_data=(x_val, y_val))"
      ],
      "metadata": {
        "colab": {
          "base_uri": "https://localhost:8080/"
        },
        "id": "Jh2d93TYNzr-",
        "outputId": "813d0771-78f2-44a3-f17c-7f8f0bb55044"
      },
      "execution_count": null,
      "outputs": [
        {
          "output_type": "stream",
          "name": "stdout",
          "text": [
            "Epoch 1/25\n",
            "444/444 [==============================] - 2s 3ms/step - loss: 0.1948 - val_loss: 0.0967\n",
            "Epoch 2/25\n",
            "444/444 [==============================] - 1s 3ms/step - loss: 0.1905 - val_loss: 0.4195\n",
            "Epoch 3/25\n",
            "444/444 [==============================] - 2s 4ms/step - loss: 0.2656 - val_loss: 0.0888\n",
            "Epoch 4/25\n",
            "444/444 [==============================] - 2s 4ms/step - loss: 0.2103 - val_loss: 0.3939\n",
            "Epoch 5/25\n",
            "444/444 [==============================] - 1s 3ms/step - loss: 0.1896 - val_loss: 0.0856\n",
            "Epoch 6/25\n",
            "444/444 [==============================] - 1s 3ms/step - loss: 0.1263 - val_loss: 0.3050\n",
            "Epoch 7/25\n",
            "444/444 [==============================] - 1s 3ms/step - loss: 0.0942 - val_loss: 0.1164\n",
            "Epoch 8/25\n",
            "444/444 [==============================] - 1s 3ms/step - loss: 0.0737 - val_loss: 0.1658\n",
            "Epoch 9/25\n",
            "444/444 [==============================] - 1s 3ms/step - loss: 0.0617 - val_loss: 0.1305\n",
            "Epoch 10/25\n",
            "444/444 [==============================] - 1s 3ms/step - loss: 0.0548 - val_loss: 0.1202\n",
            "Epoch 11/25\n",
            "444/444 [==============================] - 1s 3ms/step - loss: 0.0529 - val_loss: 0.1114\n",
            "Epoch 12/25\n",
            "444/444 [==============================] - 1s 3ms/step - loss: 0.0499 - val_loss: 0.1007\n",
            "Epoch 13/25\n",
            "444/444 [==============================] - 2s 5ms/step - loss: 0.0483 - val_loss: 0.0864\n",
            "Epoch 14/25\n",
            "444/444 [==============================] - 2s 4ms/step - loss: 0.0459 - val_loss: 0.0792\n",
            "Epoch 15/25\n",
            "444/444 [==============================] - 1s 3ms/step - loss: 0.0438 - val_loss: 0.0776\n",
            "Epoch 16/25\n",
            "444/444 [==============================] - 1s 3ms/step - loss: 0.0438 - val_loss: 0.0746\n",
            "Epoch 17/25\n",
            "444/444 [==============================] - 1s 3ms/step - loss: 0.0430 - val_loss: 0.0752\n",
            "Epoch 18/25\n",
            "444/444 [==============================] - 1s 3ms/step - loss: 0.0420 - val_loss: 0.0658\n",
            "Epoch 19/25\n",
            "444/444 [==============================] - 1s 3ms/step - loss: 0.0415 - val_loss: 0.0611\n",
            "Epoch 20/25\n",
            "444/444 [==============================] - 1s 3ms/step - loss: 0.0410 - val_loss: 0.0622\n",
            "Epoch 21/25\n",
            "444/444 [==============================] - 1s 3ms/step - loss: 0.0411 - val_loss: 0.0622\n",
            "Epoch 22/25\n",
            "444/444 [==============================] - 2s 5ms/step - loss: 0.0410 - val_loss: 0.0539\n",
            "Epoch 23/25\n",
            "444/444 [==============================] - 2s 3ms/step - loss: 0.0408 - val_loss: 0.0527\n",
            "Epoch 24/25\n",
            "444/444 [==============================] - 1s 3ms/step - loss: 0.0413 - val_loss: 0.0511\n",
            "Epoch 25/25\n",
            "444/444 [==============================] - 1s 3ms/step - loss: 0.0409 - val_loss: 0.0500\n"
          ]
        }
      ]
    },
    {
      "cell_type": "code",
      "source": [
        "import matplotlib.pyplot as plt\n",
        "plt.plot(history.history['loss'], label='Training Loss')\n",
        "plt.plot(history.history['val_loss'], label='Validation Loss')\n",
        "plt.xlabel('Epoch')\n",
        "plt.ylabel('Loss')\n",
        "plt.legend()\n",
        "plt.show()"
      ],
      "metadata": {
        "colab": {
          "base_uri": "https://localhost:8080/",
          "height": 449
        },
        "outputId": "d0f142de-b0e3-48cf-c14d-b8e9110399fd",
        "id": "IU-erImpM2Wc"
      },
      "execution_count": null,
      "outputs": [
        {
          "output_type": "display_data",
          "data": {
            "text/plain": [
              "<Figure size 640x480 with 1 Axes>"
            ],
            "image/png": "[encoded data removed]"
          },
          "metadata": {}
        }
      ]
    },
    {
      "cell_type": "code",
      "source": [
        "from sklearn.metrics import mean_squared_error\n",
        "\n",
        "y_train_pred = model.predict(x_train)\n",
        "y_val_pred = model.predict(x_val)\n",
        "rmse_train = np.sqrt(mean_squared_error(y_train, y_train_pred))\n",
        "rmse_test = np.sqrt(mean_squared_error(y_val, y_val_pred))"
      ],
      "metadata": {
        "colab": {
          "base_uri": "https://localhost:8080/"
        },
        "id": "QVjWHmv5O4iX",
        "outputId": "57a715aa-b31a-474a-963c-764792f6f216"
      },
      "execution_count": null,
      "outputs": [
        {
          "output_type": "stream",
          "name": "stdout",
          "text": [
            "888/888 [==============================] - 1s 1ms/step\n",
            "99/99 [==============================] - 0s 896us/step\n"
          ]
        }
      ]
    },
    {
      "cell_type": "code",
      "source": [
        "print(f\"RMSE for Training Data: {rmse_train:.4f}\")\n",
        "print(f\"RMSE for Test Data: {rmse_test:.4f}\")"
      ],
      "metadata": {
        "colab": {
          "base_uri": "https://localhost:8080/"
        },
        "id": "u-QCGTladVNw",
        "outputId": "a511ea1a-b9ad-4fc6-a62c-5b6ed3709154"
      },
      "execution_count": null,
      "outputs": [
        {
          "output_type": "stream",
          "name": "stdout",
          "text": [
            "RMSE for Training Data: 0.2079\n",
            "RMSE for Test Data: 0.2365\n"
          ]
        }
      ]
    },
    {
      "cell_type": "code",
      "source": [],
      "metadata": {
        "id": "9nCzhDo-zKO4"
      },
      "execution_count": null,
      "outputs": []
    },
    {
      "cell_type": "markdown",
      "source": [
        "### ModelV13"
      ],
      "metadata": {
        "id": "wMRCN3LdFXBw"
      }
    },
    {
      "cell_type": "code",
      "source": [
        "print(num_users, num_movies)"
      ],
      "metadata": {
        "id": "AfcS737pRdKW",
        "outputId": "be23770d-2a14-4924-dea6-777084e1ed7f",
        "colab": {
          "base_uri": "https://localhost:8080/"
        }
      },
      "execution_count": null,
      "outputs": [
        {
          "output_type": "stream",
          "name": "stdout",
          "text": [
            "671 1786\n"
          ]
        }
      ]
    },
    {
      "cell_type": "code",
      "source": [
        "class RecommenderNet(keras.Model):\n",
        "    def __init__(self, num_users, num_movies, embedding_size, **kwargs):\n",
        "        super(RecommenderNet, self).__init__(**kwargs)\n",
        "        self.num_users = num_users\n",
        "        self.num_movies = num_movies\n",
        "        self.embedding_size = embedding_size\n",
        "        self.user_embedding = layers.Embedding(\n",
        "            num_users,\n",
        "            embedding_size,\n",
        "            embeddings_initializer=\"he_normal\",\n",
        "            embeddings_regularizer=keras.regularizers.l2(1e-6),\n",
        "        )\n",
        "        self.user_bias = layers.Embedding(num_users, 1)\n",
        "        self.movie_embedding = layers.Embedding(\n",
        "            num_movies,\n",
        "            embedding_size,\n",
        "            embeddings_initializer=\"he_normal\",\n",
        "            embeddings_regularizer=keras.regularizers.l2(1e-6),\n",
        "        )\n",
        "        self.movie_bias = layers.Embedding(num_movies, 1)\n",
        "        self.flatten = layers.Flatten()\n",
        "        self.dense = layers.Dense(1, activation=\"sigmoid\")\n",
        "\n",
        "    def call(self, inputs):\n",
        "        user_vector = self.user_embedding(inputs[:, 0])\n",
        "        user_bias = self.user_bias(inputs[:, 0])\n",
        "        movie_vector = self.movie_embedding(inputs[:, 1])\n",
        "        movie_bias = self.movie_bias(inputs[:, 1])\n",
        "        dot_user_movie = tf.tensordot(user_vector, movie_vector, 2)\n",
        "        x = dot_user_movie + user_bias + movie_bias\n",
        "        x = self.flatten(x)\n",
        "        x = self.dense(x)\n",
        "        return x\n",
        "    def build(self, input_shape):\n",
        "        super().build(input_shape)\n"
      ],
      "metadata": {
        "id": "t4Zyt7RK227H"
      },
      "execution_count": null,
      "outputs": []
    },
    {
      "cell_type": "code",
      "source": [
        "# model = RecommenderNet(num_users, num_movies, EMBEDDING_SIZE)\n",
        "\n",
        "# lr = ReduceLROnPlateau(patience=4, verbose=1, min_lr=0.000001)\n",
        "\n",
        "# model.compile(\n",
        "#     loss=tf.keras.losses.BinaryCrossentropy(), optimizer=keras.optimizers.Adam(lr=0.001)\n",
        "# )"
      ],
      "metadata": {
        "id": "MPi52eOL280E"
      },
      "execution_count": null,
      "outputs": []
    },
    {
      "cell_type": "code",
      "source": [
        "model = RecommenderNet(num_users, num_movies, EMBEDDING_SIZE)\n",
        "\n",
        "model.compile(\n",
        "    loss=\"mean_squared_error\",\n",
        "    optimizer=keras.optimizers.Adam(),\n",
        ")"
      ],
      "metadata": {
        "id": "WMPArStm6BAp"
      },
      "execution_count": null,
      "outputs": []
    },
    {
      "cell_type": "code",
      "source": [
        "# model.summary()"
      ],
      "metadata": {
        "id": "HDp1CgW5wiEU"
      },
      "execution_count": null,
      "outputs": []
    },
    {
      "cell_type": "code",
      "source": [
        "history = model.fit(\n",
        "    x=X_train,\n",
        "    y=y_train,\n",
        "    batch_size=64,\n",
        "    epochs=25,\n",
        "    verbose=1,\n",
        "    validation_data=(x_val, y_val))"
      ],
      "metadata": {
        "colab": {
          "base_uri": "https://localhost:8080/"
        },
        "id": "dqGQ7ihI3AW2",
        "outputId": "40803dd6-b09c-4162-ffd0-008c82426c7f"
      },
      "execution_count": null,
      "outputs": [
        {
          "output_type": "stream",
          "name": "stdout",
          "text": [
            "Epoch 1/25\n",
            "444/444 [==============================] - 3s 5ms/step - loss: 0.0647 - val_loss: 0.0806\n",
            "Epoch 2/25\n",
            "444/444 [==============================] - 2s 5ms/step - loss: 0.0586 - val_loss: 0.0645\n",
            "Epoch 3/25\n",
            "444/444 [==============================] - 3s 6ms/step - loss: 0.0565 - val_loss: 0.0606\n",
            "Epoch 4/25\n",
            "444/444 [==============================] - 3s 7ms/step - loss: 0.0557 - val_loss: 0.0586\n",
            "Epoch 5/25\n",
            "444/444 [==============================] - 2s 5ms/step - loss: 0.0557 - val_loss: 0.0587\n",
            "Epoch 6/25\n",
            "444/444 [==============================] - 2s 5ms/step - loss: 0.0552 - val_loss: 0.0578\n",
            "Epoch 7/25\n",
            "444/444 [==============================] - 2s 4ms/step - loss: 0.0551 - val_loss: 0.0577\n",
            "Epoch 8/25\n",
            "444/444 [==============================] - 2s 4ms/step - loss: 0.0548 - val_loss: 0.0576\n",
            "Epoch 9/25\n",
            "444/444 [==============================] - 2s 5ms/step - loss: 0.0546 - val_loss: 0.0574\n",
            "Epoch 10/25\n",
            "444/444 [==============================] - 4s 8ms/step - loss: 0.0544 - val_loss: 0.0572\n",
            "Epoch 11/25\n",
            "444/444 [==============================] - 2s 5ms/step - loss: 0.0543 - val_loss: 0.0574\n",
            "Epoch 12/25\n",
            "444/444 [==============================] - 2s 5ms/step - loss: 0.0543 - val_loss: 0.0572\n",
            "Epoch 13/25\n",
            "444/444 [==============================] - 2s 4ms/step - loss: 0.0543 - val_loss: 0.0575\n",
            "Epoch 14/25\n",
            "444/444 [==============================] - 2s 4ms/step - loss: 0.0541 - val_loss: 0.0574\n",
            "Epoch 15/25\n",
            "444/444 [==============================] - 2s 5ms/step - loss: 0.0541 - val_loss: 0.0577\n",
            "Epoch 16/25\n",
            "444/444 [==============================] - 3s 8ms/step - loss: 0.0540 - val_loss: 0.0579\n",
            "Epoch 17/25\n",
            "444/444 [==============================] - 2s 5ms/step - loss: 0.0540 - val_loss: 0.0579\n",
            "Epoch 18/25\n",
            "444/444 [==============================] - 2s 4ms/step - loss: 0.0540 - val_loss: 0.0577\n",
            "Epoch 19/25\n",
            "444/444 [==============================] - 2s 4ms/step - loss: 0.0540 - val_loss: 0.0575\n",
            "Epoch 20/25\n",
            "444/444 [==============================] - 2s 4ms/step - loss: 0.0539 - val_loss: 0.0580\n",
            "Epoch 21/25\n",
            "444/444 [==============================] - 2s 5ms/step - loss: 0.0540 - val_loss: 0.0574\n",
            "Epoch 22/25\n",
            "444/444 [==============================] - 3s 7ms/step - loss: 0.0538 - val_loss: 0.0576\n",
            "Epoch 23/25\n",
            "444/444 [==============================] - 3s 6ms/step - loss: 0.0537 - val_loss: 0.0580\n",
            "Epoch 24/25\n",
            "444/444 [==============================] - 2s 4ms/step - loss: 0.0537 - val_loss: 0.0579\n",
            "Epoch 25/25\n",
            "444/444 [==============================] - 2s 5ms/step - loss: 0.0538 - val_loss: 0.0575\n"
          ]
        }
      ]
    },
    {
      "cell_type": "code",
      "source": [
        "import matplotlib.pyplot as plt\n",
        "plt.plot(history.history['loss'], label='Training Loss')\n",
        "plt.plot(history.history['val_loss'], label='Validation Loss')\n",
        "plt.xlabel('Epoch')\n",
        "plt.ylabel('Loss')\n",
        "plt.legend()\n",
        "plt.show()"
      ],
      "metadata": {
        "colab": {
          "base_uri": "https://localhost:8080/"
        },
        "id": "Uu5B4j8V9PTb",
        "outputId": "355841e3-91ea-47b2-d106-f826abc4d519"
      },
      "execution_count": null,
      "outputs": [
        {
          "output_type": "display_data",
          "data": {
            "text/plain": [
              "<Figure size 640x480 with 1 Axes>"
            ],
            "image/png": "[encoded data removed]"
          },
          "metadata": {}
        }
      ]
    },
    {
      "cell_type": "code",
      "source": [],
      "metadata": {
        "id": "AWlgthtHjLIe"
      },
      "execution_count": null,
      "outputs": []
    },
    {
      "cell_type": "code",
      "source": [
        "from sklearn.metrics import mean_squared_error\n",
        "\n",
        "y_train_pred = model.predict(x_train)\n",
        "y_val_pred = model.predict(x_val)\n",
        "rmse_train = np.sqrt(mean_squared_error(y_train, y_train_pred))\n",
        "rmse_test = np.sqrt(mean_squared_error(y_val, y_val_pred))"
      ],
      "metadata": {
        "colab": {
          "base_uri": "https://localhost:8080/"
        },
        "outputId": "c318c80e-00f1-4abc-a421-9dfba943e756",
        "id": "n4rv7I8cjL7v"
      },
      "execution_count": null,
      "outputs": [
        {
          "output_type": "stream",
          "name": "stdout",
          "text": [
            "888/888 [==============================] - 1s 1ms/step\n",
            "99/99 [==============================] - 0s 1ms/step\n"
          ]
        }
      ]
    },
    {
      "cell_type": "code",
      "source": [
        "print(f\"RMSE for Training Data: {rmse_train:.4f}\")\n",
        "print(f\"RMSE for Test Data: {rmse_test:.4f}\")"
      ],
      "metadata": {
        "colab": {
          "base_uri": "https://localhost:8080/"
        },
        "outputId": "298bab56-c5df-443b-d5a2-e22812e9d403",
        "id": "8mca2tvfjL7w"
      },
      "execution_count": null,
      "outputs": [
        {
          "output_type": "stream",
          "name": "stdout",
          "text": [
            "RMSE for Training Data: 0.2377\n",
            "RMSE for Test Data: 0.2383\n"
          ]
        }
      ]
    },
    {
      "cell_type": "markdown",
      "source": [
        "### Recommender"
      ],
      "metadata": {
        "id": "TzDEI8_iNRhq"
      }
    },
    {
      "cell_type": "code",
      "source": [
        "df = data\n",
        "user_ids = df[\"userId\"].unique().tolist()\n",
        "user2user_encoded = {x: i for i, x in enumerate(user_ids)}\n",
        "userencoded2user = {i: x for i, x in enumerate(user_ids)}\n",
        "movie_ids = df[\"movieId\"].unique().tolist()\n",
        "movie2movie_encoded = {x: i for i, x in enumerate(movie_ids)}\n",
        "movie_encoded2movie = {i: x for i, x in enumerate(movie_ids)}\n",
        "df[\"user\"] = df[\"userId\"].map(user2user_encoded)\n",
        "df[\"movie\"] = df[\"movieId\"].map(movie2movie_encoded)\n",
        "\n",
        "num_users = len(user2user_encoded)\n",
        "num_movies = len(movie_encoded2movie)\n",
        "df[\"rating\"] = df[\"rating\"].values.astype(np.float32)\n",
        "min_rating = min(df[\"rating\"])\n",
        "max_rating = max(df[\"rating\"])\n"
      ],
      "metadata": {
        "id": "DGvf2PJPzHl3"
      },
      "execution_count": null,
      "outputs": []
    },
    {
      "cell_type": "code",
      "source": [
        "user_id = 670\n",
        "\n",
        "movie_df = pd.read_csv('/content/drive/MyDrive/PKL-JTK-Eben/FIX REC/movie.csv')\n",
        "movie_df.drop_duplicates(subset='movieId', keep='first', inplace=True)\n",
        "movies_watched_by_user = df[df.userId == user_id]\n",
        "movies_not_watched = movie_df[\n",
        "    ~movie_df[\"movieId\"].isin(movies_watched_by_user.movieId.values)\n",
        "][\"movieId\"]\n",
        "movies_not_watched = list(\n",
        "    set(movies_not_watched).intersection(set(movie2movie_encoded.keys()))\n",
        ")\n",
        "movies_not_watched = [[movie2movie_encoded.get(x)] for x in movies_not_watched]\n",
        "user_encoder = user2user_encoded.get(user_id)\n",
        "user_movie_array = np.hstack(\n",
        "    ([[user_encoder]] * len(movies_not_watched), movies_not_watched)\n",
        ")\n",
        "ratings = model.predict(user_movie_array).flatten()\n",
        "\n",
        "top_ratings_indices = ratings.argsort()[-10:][::-1]\n",
        "recommended_movie_ids = [\n",
        "    movie_encoded2movie.get(movies_not_watched[x][0]) for x in top_ratings_indices\n",
        "]\n",
        "print(\"Top 10 movie recommendations\")\n",
        "print(\"----\" * 8)\n",
        "recommended_movies = movie_df[movie_df[\"movieId\"].isin(recommended_movie_ids)]\n",
        "\n",
        "for row in recommended_movies.itertuples():\n",
        "    print(row.original_title)\n",
        "\n"
      ],
      "metadata": {
        "colab": {
          "base_uri": "https://localhost:8080/"
        },
        "id": "iGT8-Pyey13w",
        "outputId": "87cafc91-7bf6-4232-956c-193225ed4738"
      },
      "execution_count": null,
      "outputs": [
        {
          "output_type": "stream",
          "name": "stdout",
          "text": [
            "56/56 [==============================] - 0s 853us/step\n",
            "Top 10 movie recommendations\n",
            "--------------------------------\n",
            "Mr. Jones\n",
            "Snow White and the Seven Dwarfs\n",
            "La double vie de Véronique\n",
            "Fried Green Tomatoes\n",
            "Ghost Dog: The Way of the Samurai\n",
            "Mr. Destiny\n",
            "Code 46\n",
            "The Times of Harvey Milk\n",
            "1942: A Love Story\n",
            "The Liquidator\n"
          ]
        }
      ]
    },
    {
      "cell_type": "code",
      "source": [
        "def generate_movie_recommendations(user_id, model, movie_df, user2user_encoded, movie2movie_encoded, movie_encoded2movie):\n",
        "    movies_watched_by_user = movie_df[movie_df.userId == user_id]\n",
        "    movies_not_watched = movie_df[~movie_df[\"movieId\"].isin(movies_watched_by_user.movieId.values)][\"movieId\"]\n",
        "    movies_not_watched = list(set(movies_not_watched).intersection(set(movie2movie_encoded.keys())))\n",
        "    movies_not_watched = [[movie2movie_encoded.get(x)] for x in movies_not_watched]\n",
        "\n",
        "    user_encoder = user2user_encoded.get(user_id)\n",
        "    user_movie_array = np.hstack(([[user_encoder]] * len(movies_not_watched), movies_not_watched))\n",
        "    ratings = model.predict(user_movie_array).flatten()\n",
        "    top_ratings_indices = ratings.argsort()[-10:][::-1]\n",
        "\n",
        "    recommended_movie_ids = [movie_encoded2movie.get(movies_not_watched[x][0]) for x in top_ratings_indices]\n",
        "    recommended_movies = movie_df[movie_df[\"movieId\"].isin(recommended_movie_ids)]\n",
        "\n",
        "    return recommended_movies"
      ],
      "metadata": {
        "id": "-M1xLunPFmH5"
      },
      "execution_count": null,
      "outputs": []
    },
    {
      "cell_type": "code",
      "source": [
        "user_id = 500\n",
        "recommended_movies = generate_movie_recommendations(user_id, model, movie_df,\n",
        "                                                    user2user_encoded,\n",
        "                                                    movie2movie_encoded,\n",
        "                                                    movie_encoded2movie)\n",
        "\n",
        "print(\"Top 10 movie recommendations for User\", user_id)\n",
        "print(\"----\" * 8)\n",
        "for row in recommended_movies.itertuples():\n",
        "    print(row.original_title)\n"
      ],
      "metadata": {
        "colab": {
          "base_uri": "https://localhost:8080/"
        },
        "id": "Q9R54ga1Fw5G",
        "outputId": "fbf29df4-8982-4035-d253-832aac74980c"
      },
      "execution_count": null,
      "outputs": [
        {
          "output_type": "stream",
          "name": "stdout",
          "text": [
            "56/56 [==============================] - 0s 808us/step\n",
            "Top 10 movie recommendations for User 500\n",
            "--------------------------------\n",
            "Apollo 13\n",
            "Snow White and the Seven Dwarfs\n",
            "Ghost Dog: The Way of the Samurai\n",
            "Moonraker\n",
            "About Schmidt\n",
            "장화, 홍련\n",
            "The Times of Harvey Milk\n",
            "The Lake House\n",
            "1942: A Love Story\n",
            "Ginger\n"
          ]
        }
      ]
    },
    {
      "cell_type": "code",
      "source": [
        "user_id = 100\n",
        "recommended_movies = generate_movie_recommendations(user_id, model, movie_df, user2user_encoded, movie2movie_encoded, movie_encoded2movie)\n",
        "\n",
        "print(\"Top 10 movie recommendations for User\", user_id)\n",
        "print(\"----\" * 8)\n",
        "for row in recommended_movies.itertuples():\n",
        "    print(row.original_title)"
      ],
      "metadata": {
        "colab": {
          "base_uri": "https://localhost:8080/"
        },
        "id": "hbxaYUXfF_Ld",
        "outputId": "62aa9746-ba78-4ff1-a1c2-7fbe5b950c36"
      },
      "execution_count": null,
      "outputs": [
        {
          "output_type": "stream",
          "name": "stdout",
          "text": [
            "56/56 [==============================] - 0s 1ms/step\n",
            "Top 10 movie recommendations for User 100\n",
            "--------------------------------\n",
            "Nell\n",
            "Mr. Jones\n",
            "Ghost Dog: The Way of the Samurai\n",
            "Mr. Destiny\n",
            "Code 46\n",
            "Ascenseur pour l'échafaud\n",
            "Lady in the Lake\n",
            "Bloodbath at the House of Death\n",
            "Ginger\n",
            "Long Pigs\n"
          ]
        }
      ]
    },
    {
      "cell_type": "code",
      "source": [
        "user_id = 1\n",
        "recommended_movies = generate_movie_recommendations(user_id, model, movie_df, user2user_encoded, movie2movie_encoded, movie_encoded2movie)\n",
        "\n",
        "print(\"Top 10 movie recommendations for User\", user_id)\n",
        "print(\"----\" * 8)\n",
        "for row in recommended_movies.itertuples():\n",
        "    print(row.original_title)"
      ],
      "metadata": {
        "colab": {
          "base_uri": "https://localhost:8080/"
        },
        "id": "IHWO635GGD4L",
        "outputId": "a8f531ac-c6d0-44f1-c121-1f7562d54de3"
      },
      "execution_count": null,
      "outputs": [
        {
          "output_type": "stream",
          "name": "stdout",
          "text": [
            "56/56 [==============================] - 0s 977us/step\n",
            "Top 10 movie recommendations for User 1\n",
            "--------------------------------\n",
            "Apollo 13\n",
            "Around the World in Eighty Days\n",
            "La double vie de Véronique\n",
            "Le Grand Bleu\n",
            "Moonraker\n",
            "Very Annie Mary\n",
            "Bloodbath at the House of Death\n",
            "Mirror Mirror\n",
            "Ginger\n",
            "The Liquidator\n"
          ]
        }
      ]
    },
    {
      "cell_type": "code",
      "source": [
        "user_id = 2\n",
        "recommended_movies = generate_movie_recommendations(user_id, model, movie_df, user2user_encoded, movie2movie_encoded, movie_encoded2movie)\n",
        "\n",
        "print(\"Top 10 movie recommendations for User\", user_id)\n",
        "print(\"----\" * 8)\n",
        "for row in recommended_movies.itertuples():\n",
        "    print(row.original_title)"
      ],
      "metadata": {
        "colab": {
          "base_uri": "https://localhost:8080/"
        },
        "id": "uf9NlnpZGLfA",
        "outputId": "a7f5c8dc-4bed-473a-cd3f-d3ae032d0344"
      },
      "execution_count": null,
      "outputs": [
        {
          "output_type": "stream",
          "name": "stdout",
          "text": [
            "55/55 [==============================] - 0s 878us/step\n",
            "Top 10 movie recommendations for User 2\n",
            "--------------------------------\n",
            "Apollo 13\n",
            "Around the World in Eighty Days\n",
            "Dial M for Murder\n",
            "Ghost Dog: The Way of the Samurai\n",
            "Per qualche dollaro in più\n",
            "Shaft\n",
            "M*A*S*H\n",
            "The Sum of All Fears\n",
            "장화, 홍련\n",
            "Ginger\n"
          ]
        }
      ]
    },
    {
      "cell_type": "code",
      "source": [
        "user_id = 3\n",
        "recommended_movies = generate_movie_recommendations(user_id, model, movie_df, user2user_encoded, movie2movie_encoded, movie_encoded2movie)\n",
        "\n",
        "print(\"Top 10 movie recommendations for User\", user_id)\n",
        "print(\"----\" * 8)\n",
        "for row in recommended_movies.itertuples():\n",
        "    print(row.original_title)"
      ],
      "metadata": {
        "colab": {
          "base_uri": "https://localhost:8080/"
        },
        "id": "wRGKrlLFGSTZ",
        "outputId": "41489808-320c-4153-d583-1d3cb98213fb"
      },
      "execution_count": null,
      "outputs": [
        {
          "output_type": "stream",
          "name": "stdout",
          "text": [
            "56/56 [==============================] - 0s 820us/step\n",
            "Top 10 movie recommendations for User 3\n",
            "--------------------------------\n",
            "Around the World in Eighty Days\n",
            "Ghost Dog: The Way of the Samurai\n",
            "Moonraker\n",
            "Out of Rosenheim\n",
            "The Sum of All Fears\n",
            "About Schmidt\n",
            "Pillow Talk\n",
            "장화, 홍련\n",
            "The Prime of Miss Jean Brodie\n",
            "Blondie Goes Latin\n"
          ]
        }
      ]
    }
  ]
}