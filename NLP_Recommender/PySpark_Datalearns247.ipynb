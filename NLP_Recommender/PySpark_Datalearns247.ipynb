{
  "nbformat": 4,
  "nbformat_minor": 0,
  "metadata": {
    "colab": {
      "provenance": []
    },
    "kernelspec": {
      "name": "python3",
      "display_name": "Python 3"
    },
    "language_info": {
      "name": "python"
    }
  },
  "cells": [
    {
      "cell_type": "code",
      "source": [
        "!pip install pyspark\n",
        "import pyspark\n",
        "import numpy as np\n",
        "import pandas as pd\n"
      ],
      "metadata": {
        "colab": {
          "base_uri": "https://localhost:8080/"
        },
        "id": "cF2ycEZA3BEA",
        "outputId": "d612e0a6-890c-4bcf-813c-28f421ce93fd"
      },
      "execution_count": 85,
      "outputs": [
        {
          "output_type": "stream",
          "name": "stdout",
          "text": [
            "Requirement already satisfied: pyspark in /usr/local/lib/python3.10/dist-packages (3.4.1)\n",
            "Requirement already satisfied: py4j==0.10.9.7 in /usr/local/lib/python3.10/dist-packages (from pyspark) (0.10.9.7)\n"
          ]
        }
      ]
    },
    {
      "cell_type": "code",
      "source": [
        "from pyspark.sql import SparkSession\n",
        "from pyspark import SparkContext\n",
        "from pyspark.sql import SparkSession, functions as F\n",
        "from pyspark.sql.types import StringType\n",
        "from pyspark.ml.feature import Tokenizer, IDF,HashingTF\n",
        "from pyspark.sql.functions import regexp_replace\n",
        "from sklearn.metrics.pairwise import cosine_similarity\n",
        "from pyspark.sql import SparkSession\n",
        "from pyspark.sql.functions import lower, concat_ws, collect_list\n",
        "from pyspark.sql.window import Window\n"
      ],
      "metadata": {
        "id": "6ThcSPDu6Oj9"
      },
      "execution_count": 86,
      "outputs": []
    },
    {
      "cell_type": "code",
      "source": [
        "spark = SparkSession.builder.appName(\"MovieRecommendation\").getOrCreate()\n"
      ],
      "metadata": {
        "id": "PFUueBwD2SFi"
      },
      "execution_count": 87,
      "outputs": []
    },
    {
      "cell_type": "code",
      "source": [
        "data = spark.read.csv(\"/content/drive/MyDrive/PKL-JTK-Eben/September/Datalearns247/datalearns_tags.csv\", header=True, inferSchema=True)\n",
        "data"
      ],
      "metadata": {
        "id": "F2NvVn4g2Ts1",
        "colab": {
          "base_uri": "https://localhost:8080/"
        },
        "outputId": "4dc1e9c2-f7c8-43cf-880d-eca848d86aa0"
      },
      "execution_count": 88,
      "outputs": [
        {
          "output_type": "execute_result",
          "data": {
            "text/plain": [
              "DataFrame[nid: int, title: string, topic_name: string, tag_name: string, field_tags_target_id: int, field_topic_target_id: string]"
            ]
          },
          "metadata": {},
          "execution_count": 88
        }
      ]
    },
    {
      "cell_type": "code",
      "execution_count": 89,
      "metadata": {
        "id": "h9Sy3GiLQRbx",
        "colab": {
          "base_uri": "https://localhost:8080/"
        },
        "outputId": "3e21fd12-f776-42ab-dde1-832627ceb089"
      },
      "outputs": [
        {
          "output_type": "stream",
          "name": "stdout",
          "text": [
            "+---+--------------------+-----------------+--------+--------------------+---------------------+\n",
            "|nid|               title|       topic_name|tag_name|field_tags_target_id|field_topic_target_id|\n",
            "+---+--------------------+-----------------+--------+--------------------+---------------------+\n",
            "| 12|Mengenal Machine ...| Machine Learning| Article|                  11|                  120|\n",
            "| 63|  21 Tahun Solusi247|             NULL| Article|                  11|                 NULL|\n",
            "| 69|Mengenal Feature ...| Machine Learning| Article|                  11|                  120|\n",
            "| 69|Mengenal Feature ...|Feature Selection| Article|                  11|                  121|\n",
            "| 71|Feature Selection...|           Pandas| Article|                  11|                  124|\n",
            "| 71|Feature Selection...|           Python| Article|                  11|                   85|\n",
            "| 71|Feature Selection...|Feature Selection| Article|                  11|                  121|\n",
            "| 71|Feature Selection...|     Scikit-learn| Article|                  11|                  125|\n",
            "|125|Mengenal Machine ...|             NULL| Article|                  11|                 NULL|\n",
            "|127|Feature Selection...|             NULL| Article|                  11|                 NULL|\n",
            "|190|Analisis Time Ser...|       Timeseries| Article|                  11|                  112|\n",
            "|191|13 Python Package...|           Python| Article|                  11|                   85|\n",
            "|191|13 Python Package...|       Timeseries| Article|                  11|                  112|\n",
            "|191|13 Python Package...|      Statsmodels| Article|                  11|                  113|\n",
            "|191|13 Python Package...|         Pmdarima| Article|                  11|                  114|\n",
            "|191|13 Python Package...|          Prophet| Article|                  11|                  115|\n",
            "|191|13 Python Package...|          TsFresh| Article|                  11|                  116|\n",
            "|191|13 Python Package...|            Darts| Article|                  11|                  117|\n",
            "|201|Deteksi Stasioner...|       Timeseries| Article|                  11|                  112|\n",
            "|202|Perjalanan Artifi...|               AI| Article|                  11|                  109|\n",
            "+---+--------------------+-----------------+--------+--------------------+---------------------+\n",
            "only showing top 20 rows\n",
            "\n"
          ]
        }
      ],
      "source": [
        "data.show()"
      ]
    },
    {
      "cell_type": "code",
      "source": [
        "data = data.withColumn(\"topic_name\", data[\"topic_name\"].cast(\"string\"))\n",
        "grouped_data = data.groupBy(\"nid\").agg(concat_ws(\", \", collect_list(\"topic_name\")).alias(\"topic_name_grouped\"))\n",
        "data = data.join(grouped_data, on=\"nid\", how=\"inner\")\n",
        "window_spec = Window.partitionBy(\"title\").orderBy(\"nid\")\n",
        "data = data.withColumn(\"row_number\", F.row_number().over(window_spec))\n",
        "data = data.filter(data[\"row_number\"] == 1).drop(\"row_number\")\n",
        "data = data.withColumn(\"features\", lower(concat_ws(\" \", data[\"title\"], data[\"topic_name_grouped\"], data[\"tag_name\"])))\n"
      ],
      "metadata": {
        "id": "0mkyGRAh_Ipx"
      },
      "execution_count": 90,
      "outputs": []
    },
    {
      "cell_type": "code",
      "source": [
        "tokenizer = Tokenizer(inputCol=\"features\", outputCol=\"words\")\n",
        "words_data = tokenizer.transform(data)"
      ],
      "metadata": {
        "id": "a_127-zk6qO_"
      },
      "execution_count": 93,
      "outputs": []
    },
    {
      "cell_type": "code",
      "source": [
        "# words_data.show()"
      ],
      "metadata": {
        "id": "FDlzkVauGSDN"
      },
      "execution_count": 94,
      "outputs": []
    },
    {
      "cell_type": "code",
      "source": [
        "hashingTF = HashingTF(inputCol=\"words\", outputCol=\"rawFeatures\", numFeatures=1000)\n",
        "tf_data = hashingTF.transform(words_data)"
      ],
      "metadata": {
        "id": "7DqFANo-6v8c"
      },
      "execution_count": 108,
      "outputs": []
    },
    {
      "cell_type": "code",
      "source": [
        "idf = IDF(inputCol=\"rawFeatures\", outputCol=\"tfidf_features\")\n",
        "idf_model = idf.fit(tf_data)\n",
        "tfidf_data = idf_model.transform(tf_data)"
      ],
      "metadata": {
        "id": "zl1D9J8VExuw"
      },
      "execution_count": 109,
      "outputs": []
    },
    {
      "cell_type": "code",
      "source": [
        "tfidf_data_pandas = tfidf_data.toPandas()"
      ],
      "metadata": {
        "id": "kzFSVKHLG3bc"
      },
      "execution_count": 110,
      "outputs": []
    },
    {
      "cell_type": "code",
      "source": [
        "# tfidf_data_pandas"
      ],
      "metadata": {
        "id": "fqSKM9jULCGo"
      },
      "execution_count": 98,
      "outputs": []
    },
    {
      "cell_type": "code",
      "source": [
        "\n",
        "tfidf_vectors = tfidf_data_pandas[\"tfidf_features\"].to_list()\n",
        "cosine_sim = cosine_similarity(tfidf_vectors, tfidf_vectors)"
      ],
      "metadata": {
        "id": "RsB4D8YYLmRa"
      },
      "execution_count": 111,
      "outputs": []
    },
    {
      "cell_type": "code",
      "source": [
        "data = tfidf_data_pandas"
      ],
      "metadata": {
        "id": "FUHTom-nRFfx"
      },
      "execution_count": 112,
      "outputs": []
    },
    {
      "cell_type": "code",
      "source": [
        "data.head()"
      ],
      "metadata": {
        "colab": {
          "base_uri": "https://localhost:8080/",
          "height": 397
        },
        "id": "efsLvprNR5Iy",
        "outputId": "4b0c2b79-109c-4e1e-bd85-a1e9692c089a"
      },
      "execution_count": 113,
      "outputs": [
        {
          "output_type": "execute_result",
          "data": {
            "text/plain": [
              "   nid                                              title  topic_name  \\\n",
              "0  191  13 Python Package Populer untuk Analisis Time ...      Python   \n",
              "1   63                                 21 Tahun Solusi247        NULL   \n",
              "2  244                  30 Tools Generative AI Tahun 2023          AI   \n",
              "3  190  Analisis Time Series, Definisi, Pola dan Algor...  Timeseries   \n",
              "4  236  Belajar Apache Spark Dengan Python : Mengenal ...     Pyspark   \n",
              "\n",
              "   tag_name  field_tags_target_id field_topic_target_id  \\\n",
              "0   Article                    11                    85   \n",
              "1   Article                    11                  NULL   \n",
              "2   Article                    11                   109   \n",
              "3   Article                    11                   112   \n",
              "4  Tutorial                    12                    84   \n",
              "\n",
              "                                  topic_name_grouped  \\\n",
              "0  Python, Timeseries, Statsmodels, Pmdarima, Pro...   \n",
              "1                                         NULL, NULL   \n",
              "2                                  AI, Generative AI   \n",
              "3                                         Timeseries   \n",
              "4                                    Pyspark, Python   \n",
              "\n",
              "                                            features  \\\n",
              "0  13 python package populer untuk analisis time ...   \n",
              "1              21 tahun solusi247 null, null article   \n",
              "2  30 tools generative ai tahun 2023 ai, generati...   \n",
              "3  analisis time series, definisi, pola dan algor...   \n",
              "4  belajar apache spark dengan python : mengenal ...   \n",
              "\n",
              "                                               words  \\\n",
              "0  [13, python, package, populer, untuk, analisis...   \n",
              "1       [21, tahun, solusi247, null,, null, article]   \n",
              "2  [30, tools, generative, ai, tahun, 2023, ai,, ...   \n",
              "3  [analisis, time, series,, definisi,, pola, dan...   \n",
              "4  [belajar, apache, spark, dengan, python, :, me...   \n",
              "\n",
              "                                         rawFeatures  \\\n",
              "0  (0.0, 0.0, 0.0, 0.0, 0.0, 0.0, 0.0, 1.0, 0.0, ...   \n",
              "1  (0.0, 0.0, 0.0, 0.0, 0.0, 0.0, 0.0, 0.0, 0.0, ...   \n",
              "2  (0.0, 0.0, 0.0, 0.0, 0.0, 0.0, 0.0, 0.0, 0.0, ...   \n",
              "3  (0.0, 0.0, 0.0, 0.0, 0.0, 0.0, 0.0, 0.0, 0.0, ...   \n",
              "4  (0.0, 0.0, 0.0, 0.0, 0.0, 0.0, 0.0, 0.0, 0.0, ...   \n",
              "\n",
              "                                      tfidf_features  \n",
              "0  (0.0, 0.0, 0.0, 0.0, 0.0, 0.0, 0.0, 2.23359222...  \n",
              "1  (0.0, 0.0, 0.0, 0.0, 0.0, 0.0, 0.0, 0.0, 0.0, ...  \n",
              "2  (0.0, 0.0, 0.0, 0.0, 0.0, 0.0, 0.0, 0.0, 0.0, ...  \n",
              "3  (0.0, 0.0, 0.0, 0.0, 0.0, 0.0, 0.0, 0.0, 0.0, ...  \n",
              "4  (0.0, 0.0, 0.0, 0.0, 0.0, 0.0, 0.0, 0.0, 0.0, ...  "
            ],
            "text/html": [
              "\n",
              "  <div id=\"df-4df2d6ad-3e01-41e8-be77-0f194c6ab4e4\" class=\"colab-df-container\">\n",
              "    <div>\n",
              "<style scoped>\n",
              "    .dataframe tbody tr th:only-of-type {\n",
              "        vertical-align: middle;\n",
              "    }\n",
              "\n",
              "    .dataframe tbody tr th {\n",
              "        vertical-align: top;\n",
              "    }\n",
              "\n",
              "    .dataframe thead th {\n",
              "        text-align: right;\n",
              "    }\n",
              "</style>\n",
              "<table border=\"1\" class=\"dataframe\">\n",
              "  <thead>\n",
              "    <tr style=\"text-align: right;\">\n",
              "      <th></th>\n",
              "      <th>nid</th>\n",
              "      <th>title</th>\n",
              "      <th>topic_name</th>\n",
              "      <th>tag_name</th>\n",
              "      <th>field_tags_target_id</th>\n",
              "      <th>field_topic_target_id</th>\n",
              "      <th>topic_name_grouped</th>\n",
              "      <th>features</th>\n",
              "      <th>words</th>\n",
              "      <th>rawFeatures</th>\n",
              "      <th>tfidf_features</th>\n",
              "    </tr>\n",
              "  </thead>\n",
              "  <tbody>\n",
              "    <tr>\n",
              "      <th>0</th>\n",
              "      <td>191</td>\n",
              "      <td>13 Python Package Populer untuk Analisis Time ...</td>\n",
              "      <td>Python</td>\n",
              "      <td>Article</td>\n",
              "      <td>11</td>\n",
              "      <td>85</td>\n",
              "      <td>Python, Timeseries, Statsmodels, Pmdarima, Pro...</td>\n",
              "      <td>13 python package populer untuk analisis time ...</td>\n",
              "      <td>[13, python, package, populer, untuk, analisis...</td>\n",
              "      <td>(0.0, 0.0, 0.0, 0.0, 0.0, 0.0, 0.0, 1.0, 0.0, ...</td>\n",
              "      <td>(0.0, 0.0, 0.0, 0.0, 0.0, 0.0, 0.0, 2.23359222...</td>\n",
              "    </tr>\n",
              "    <tr>\n",
              "      <th>1</th>\n",
              "      <td>63</td>\n",
              "      <td>21 Tahun Solusi247</td>\n",
              "      <td>NULL</td>\n",
              "      <td>Article</td>\n",
              "      <td>11</td>\n",
              "      <td>NULL</td>\n",
              "      <td>NULL, NULL</td>\n",
              "      <td>21 tahun solusi247 null, null article</td>\n",
              "      <td>[21, tahun, solusi247, null,, null, article]</td>\n",
              "      <td>(0.0, 0.0, 0.0, 0.0, 0.0, 0.0, 0.0, 0.0, 0.0, ...</td>\n",
              "      <td>(0.0, 0.0, 0.0, 0.0, 0.0, 0.0, 0.0, 0.0, 0.0, ...</td>\n",
              "    </tr>\n",
              "    <tr>\n",
              "      <th>2</th>\n",
              "      <td>244</td>\n",
              "      <td>30 Tools Generative AI Tahun 2023</td>\n",
              "      <td>AI</td>\n",
              "      <td>Article</td>\n",
              "      <td>11</td>\n",
              "      <td>109</td>\n",
              "      <td>AI, Generative AI</td>\n",
              "      <td>30 tools generative ai tahun 2023 ai, generati...</td>\n",
              "      <td>[30, tools, generative, ai, tahun, 2023, ai,, ...</td>\n",
              "      <td>(0.0, 0.0, 0.0, 0.0, 0.0, 0.0, 0.0, 0.0, 0.0, ...</td>\n",
              "      <td>(0.0, 0.0, 0.0, 0.0, 0.0, 0.0, 0.0, 0.0, 0.0, ...</td>\n",
              "    </tr>\n",
              "    <tr>\n",
              "      <th>3</th>\n",
              "      <td>190</td>\n",
              "      <td>Analisis Time Series, Definisi, Pola dan Algor...</td>\n",
              "      <td>Timeseries</td>\n",
              "      <td>Article</td>\n",
              "      <td>11</td>\n",
              "      <td>112</td>\n",
              "      <td>Timeseries</td>\n",
              "      <td>analisis time series, definisi, pola dan algor...</td>\n",
              "      <td>[analisis, time, series,, definisi,, pola, dan...</td>\n",
              "      <td>(0.0, 0.0, 0.0, 0.0, 0.0, 0.0, 0.0, 0.0, 0.0, ...</td>\n",
              "      <td>(0.0, 0.0, 0.0, 0.0, 0.0, 0.0, 0.0, 0.0, 0.0, ...</td>\n",
              "    </tr>\n",
              "    <tr>\n",
              "      <th>4</th>\n",
              "      <td>236</td>\n",
              "      <td>Belajar Apache Spark Dengan Python : Mengenal ...</td>\n",
              "      <td>Pyspark</td>\n",
              "      <td>Tutorial</td>\n",
              "      <td>12</td>\n",
              "      <td>84</td>\n",
              "      <td>Pyspark, Python</td>\n",
              "      <td>belajar apache spark dengan python : mengenal ...</td>\n",
              "      <td>[belajar, apache, spark, dengan, python, :, me...</td>\n",
              "      <td>(0.0, 0.0, 0.0, 0.0, 0.0, 0.0, 0.0, 0.0, 0.0, ...</td>\n",
              "      <td>(0.0, 0.0, 0.0, 0.0, 0.0, 0.0, 0.0, 0.0, 0.0, ...</td>\n",
              "    </tr>\n",
              "  </tbody>\n",
              "</table>\n",
              "</div>\n",
              "    <div class=\"colab-df-buttons\">\n",
              "\n",
              "  <div class=\"colab-df-container\">\n",
              "    <button class=\"colab-df-convert\" onclick=\"convertToInteractive('df-4df2d6ad-3e01-41e8-be77-0f194c6ab4e4')\"\n",
              "            title=\"Convert this dataframe to an interactive table.\"\n",
              "            style=\"display:none;\">\n",
              "\n",
              "  <svg xmlns=\"http://www.w3.org/2000/svg\" height=\"24px\" viewBox=\"0 -960 960 960\">\n",
              "    <path d=\"M120-120v-720h720v720H120Zm60-500h600v-160H180v160Zm220 220h160v-160H400v160Zm0 220h160v-160H400v160ZM180-400h160v-160H180v160Zm440 0h160v-160H620v160ZM180-180h160v-160H180v160Zm440 0h160v-160H620v160Z\"/>\n",
              "  </svg>\n",
              "    </button>\n",
              "\n",
              "  <style>\n",
              "    .colab-df-container {\n",
              "      display:flex;\n",
              "      gap: 12px;\n",
              "    }\n",
              "\n",
              "    .colab-df-convert {\n",
              "      background-color: #E8F0FE;\n",
              "      border: none;\n",
              "      border-radius: 50%;\n",
              "      cursor: pointer;\n",
              "      display: none;\n",
              "      fill: #1967D2;\n",
              "      height: 32px;\n",
              "      padding: 0 0 0 0;\n",
              "      width: 32px;\n",
              "    }\n",
              "\n",
              "    .colab-df-convert:hover {\n",
              "      background-color: #E2EBFA;\n",
              "      box-shadow: 0px 1px 2px rgba(60, 64, 67, 0.3), 0px 1px 3px 1px rgba(60, 64, 67, 0.15);\n",
              "      fill: #174EA6;\n",
              "    }\n",
              "\n",
              "    .colab-df-buttons div {\n",
              "      margin-bottom: 4px;\n",
              "    }\n",
              "\n",
              "    [theme=dark] .colab-df-convert {\n",
              "      background-color: #3B4455;\n",
              "      fill: #D2E3FC;\n",
              "    }\n",
              "\n",
              "    [theme=dark] .colab-df-convert:hover {\n",
              "      background-color: #434B5C;\n",
              "      box-shadow: 0px 1px 3px 1px rgba(0, 0, 0, 0.15);\n",
              "      filter: drop-shadow(0px 1px 2px rgba(0, 0, 0, 0.3));\n",
              "      fill: #FFFFFF;\n",
              "    }\n",
              "  </style>\n",
              "\n",
              "    <script>\n",
              "      const buttonEl =\n",
              "        document.querySelector('#df-4df2d6ad-3e01-41e8-be77-0f194c6ab4e4 button.colab-df-convert');\n",
              "      buttonEl.style.display =\n",
              "        google.colab.kernel.accessAllowed ? 'block' : 'none';\n",
              "\n",
              "      async function convertToInteractive(key) {\n",
              "        const element = document.querySelector('#df-4df2d6ad-3e01-41e8-be77-0f194c6ab4e4');\n",
              "        const dataTable =\n",
              "          await google.colab.kernel.invokeFunction('convertToInteractive',\n",
              "                                                    [key], {});\n",
              "        if (!dataTable) return;\n",
              "\n",
              "        const docLinkHtml = 'Like what you see? Visit the ' +\n",
              "          '<a target=\"_blank\" href=https://colab.research.google.com/notebooks/data_table.ipynb>data table notebook</a>'\n",
              "          + ' to learn more about interactive tables.';\n",
              "        element.innerHTML = '';\n",
              "        dataTable['output_type'] = 'display_data';\n",
              "        await google.colab.output.renderOutput(dataTable, element);\n",
              "        const docLink = document.createElement('div');\n",
              "        docLink.innerHTML = docLinkHtml;\n",
              "        element.appendChild(docLink);\n",
              "      }\n",
              "    </script>\n",
              "  </div>\n",
              "\n",
              "\n",
              "<div id=\"df-c5a465b9-8935-4792-bef8-410ff7bbfeb4\">\n",
              "  <button class=\"colab-df-quickchart\" onclick=\"quickchart('df-c5a465b9-8935-4792-bef8-410ff7bbfeb4')\"\n",
              "            title=\"Suggest charts.\"\n",
              "            style=\"display:none;\">\n",
              "\n",
              "<svg xmlns=\"http://www.w3.org/2000/svg\" height=\"24px\"viewBox=\"0 0 24 24\"\n",
              "     width=\"24px\">\n",
              "    <g>\n",
              "        <path d=\"M19 3H5c-1.1 0-2 .9-2 2v14c0 1.1.9 2 2 2h14c1.1 0 2-.9 2-2V5c0-1.1-.9-2-2-2zM9 17H7v-7h2v7zm4 0h-2V7h2v10zm4 0h-2v-4h2v4z\"/>\n",
              "    </g>\n",
              "</svg>\n",
              "  </button>\n",
              "\n",
              "<style>\n",
              "  .colab-df-quickchart {\n",
              "      --bg-color: #E8F0FE;\n",
              "      --fill-color: #1967D2;\n",
              "      --hover-bg-color: #E2EBFA;\n",
              "      --hover-fill-color: #174EA6;\n",
              "      --disabled-fill-color: #AAA;\n",
              "      --disabled-bg-color: #DDD;\n",
              "  }\n",
              "\n",
              "  [theme=dark] .colab-df-quickchart {\n",
              "      --bg-color: #3B4455;\n",
              "      --fill-color: #D2E3FC;\n",
              "      --hover-bg-color: #434B5C;\n",
              "      --hover-fill-color: #FFFFFF;\n",
              "      --disabled-bg-color: #3B4455;\n",
              "      --disabled-fill-color: #666;\n",
              "  }\n",
              "\n",
              "  .colab-df-quickchart {\n",
              "    background-color: var(--bg-color);\n",
              "    border: none;\n",
              "    border-radius: 50%;\n",
              "    cursor: pointer;\n",
              "    display: none;\n",
              "    fill: var(--fill-color);\n",
              "    height: 32px;\n",
              "    padding: 0;\n",
              "    width: 32px;\n",
              "  }\n",
              "\n",
              "  .colab-df-quickchart:hover {\n",
              "    background-color: var(--hover-bg-color);\n",
              "    box-shadow: 0 1px 2px rgba(60, 64, 67, 0.3), 0 1px 3px 1px rgba(60, 64, 67, 0.15);\n",
              "    fill: var(--button-hover-fill-color);\n",
              "  }\n",
              "\n",
              "  .colab-df-quickchart-complete:disabled,\n",
              "  .colab-df-quickchart-complete:disabled:hover {\n",
              "    background-color: var(--disabled-bg-color);\n",
              "    fill: var(--disabled-fill-color);\n",
              "    box-shadow: none;\n",
              "  }\n",
              "\n",
              "  .colab-df-spinner {\n",
              "    border: 2px solid var(--fill-color);\n",
              "    border-color: transparent;\n",
              "    border-bottom-color: var(--fill-color);\n",
              "    animation:\n",
              "      spin 1s steps(1) infinite;\n",
              "  }\n",
              "\n",
              "  @keyframes spin {\n",
              "    0% {\n",
              "      border-color: transparent;\n",
              "      border-bottom-color: var(--fill-color);\n",
              "      border-left-color: var(--fill-color);\n",
              "    }\n",
              "    20% {\n",
              "      border-color: transparent;\n",
              "      border-left-color: var(--fill-color);\n",
              "      border-top-color: var(--fill-color);\n",
              "    }\n",
              "    30% {\n",
              "      border-color: transparent;\n",
              "      border-left-color: var(--fill-color);\n",
              "      border-top-color: var(--fill-color);\n",
              "      border-right-color: var(--fill-color);\n",
              "    }\n",
              "    40% {\n",
              "      border-color: transparent;\n",
              "      border-right-color: var(--fill-color);\n",
              "      border-top-color: var(--fill-color);\n",
              "    }\n",
              "    60% {\n",
              "      border-color: transparent;\n",
              "      border-right-color: var(--fill-color);\n",
              "    }\n",
              "    80% {\n",
              "      border-color: transparent;\n",
              "      border-right-color: var(--fill-color);\n",
              "      border-bottom-color: var(--fill-color);\n",
              "    }\n",
              "    90% {\n",
              "      border-color: transparent;\n",
              "      border-bottom-color: var(--fill-color);\n",
              "    }\n",
              "  }\n",
              "</style>\n",
              "\n",
              "  <script>\n",
              "    async function quickchart(key) {\n",
              "      const quickchartButtonEl =\n",
              "        document.querySelector('#' + key + ' button');\n",
              "      quickchartButtonEl.disabled = true;  // To prevent multiple clicks.\n",
              "      quickchartButtonEl.classList.add('colab-df-spinner');\n",
              "      try {\n",
              "        const charts = await google.colab.kernel.invokeFunction(\n",
              "            'suggestCharts', [key], {});\n",
              "      } catch (error) {\n",
              "        console.error('Error during call to suggestCharts:', error);\n",
              "      }\n",
              "      quickchartButtonEl.classList.remove('colab-df-spinner');\n",
              "      quickchartButtonEl.classList.add('colab-df-quickchart-complete');\n",
              "    }\n",
              "    (() => {\n",
              "      let quickchartButtonEl =\n",
              "        document.querySelector('#df-c5a465b9-8935-4792-bef8-410ff7bbfeb4 button');\n",
              "      quickchartButtonEl.style.display =\n",
              "        google.colab.kernel.accessAllowed ? 'block' : 'none';\n",
              "    })();\n",
              "  </script>\n",
              "</div>\n",
              "    </div>\n",
              "  </div>\n"
            ]
          },
          "metadata": {},
          "execution_count": 113
        }
      ]
    },
    {
      "cell_type": "code",
      "source": [
        "def recommend_items_by_item_id(item_id, num_recommendations=7):\n",
        "    item_index = data[data['nid'] == item_id].index[0]\n",
        "    item_similarity = cosine_sim[item_index]\n",
        "    similar_item_indices = item_similarity.argsort()[::-1][1:num_recommendations+1]\n",
        "    recommended_item_ids = data.iloc[similar_item_indices]['nid'].values\n",
        "    recommended_item_titles = data.iloc[similar_item_indices]['title'].values\n",
        "\n",
        "    return recommended_item_ids, recommended_item_titles"
      ],
      "metadata": {
        "id": "GLem1HIzGyVK"
      },
      "execution_count": 114,
      "outputs": []
    },
    {
      "cell_type": "code",
      "source": [
        "item_id = 12\n",
        "recommended_item_ids, recommended_item_titles = recommend_items_by_item_id(item_id)\n",
        "\n",
        "selected_item = data[data['nid'] == item_id]['title'].values[0]\n",
        "\n",
        "print(f\"Title for ({item_id}): {selected_item}\\n\")\n",
        "\n",
        "print(f\"Recommended items for item ID {item_id}:\")\n",
        "for item_id, item_title in zip(recommended_item_ids, recommended_item_titles):\n",
        "    print(f\"Item ID: {item_id}, Title: {item_title}\")\n"
      ],
      "metadata": {
        "colab": {
          "base_uri": "https://localhost:8080/"
        },
        "id": "pPLl1XERKrxh",
        "outputId": "c037cdcb-bde6-43ab-9c5e-b7eace51988b"
      },
      "execution_count": 115,
      "outputs": [
        {
          "output_type": "stream",
          "name": "stdout",
          "text": [
            "Title for (12): Mengenal Machine Learning\n",
            "\n",
            "Recommended items for item ID 12:\n",
            "Item ID: 69, Title: Mengenal Feature Selection dalam Machine Learning\n",
            "Item ID: 202, Title: Perjalanan Artificial Neural Network, Dari Perceptron ke Deep Learning\n",
            "Item ID: 233, Title: Yuk Mengenal Apache Spark\n",
            "Item ID: 236, Title: Belajar Apache Spark Dengan Python : Mengenal DataFrame\n",
            "Item ID: 212, Title: HGrid247 Data Engineering\n",
            "Item ID: 63, Title: 21 Tahun Solusi247\n",
            "Item ID: 201, Title: Deteksi Stasioneritas Dalam Time Series\n"
          ]
        }
      ]
    },
    {
      "cell_type": "code",
      "source": [],
      "metadata": {
        "id": "x9dtsKdeuFEf"
      },
      "execution_count": 103,
      "outputs": []
    },
    {
      "cell_type": "code",
      "source": [
        "item_id = 235\n",
        "recommended_item_ids, recommended_item_titles = recommend_items_by_item_id(item_id)\n",
        "\n",
        "selected_item = data[data['nid'] == item_id]['title'].values[0]\n",
        "\n",
        "print(f\"Title for ({item_id}): {selected_item}\\n\")\n",
        "\n",
        "print(f\"Recommended items for item ID {item_id}:\")\n",
        "for item_id, item_title in zip(recommended_item_ids, recommended_item_titles):\n",
        "    print(f\"Item ID: {item_id}, Title: {item_title}\")\n"
      ],
      "metadata": {
        "colab": {
          "base_uri": "https://localhost:8080/"
        },
        "id": "GV9PXW4KqVb9",
        "outputId": "04654ff9-a38c-469c-e9f0-3cddf4a97a84"
      },
      "execution_count": 116,
      "outputs": [
        {
          "output_type": "stream",
          "name": "stdout",
          "text": [
            "Title for (235): Belajar PySpark - Select, Filter dan Where Pada DataFrame\n",
            "\n",
            "Recommended items for item ID 235:\n",
            "Item ID: 245, Title: Belajar PySpark - SQL pada Dataframe dengan expr()\n",
            "Item ID: 237, Title: Belajar PySpark - Transformasi DataFrame dengan withColumn\n",
            "Item ID: 246, Title: Belajar PySpark - GroupBy dan Agregasi\n",
            "Item ID: 247, Title: Belajar PySpark - Join Dataframe\n",
            "Item ID: 238, Title: Belajar PySpark - Transformasi Dataframe dengan When-Otherwise\n",
            "Item ID: 236, Title: Belajar Apache Spark Dengan Python : Mengenal DataFrame\n",
            "Item ID: 191, Title: 13 Python Package Populer untuk Analisis Time Series\n"
          ]
        }
      ]
    },
    {
      "cell_type": "code",
      "source": [
        "item_id = 191\n",
        "recommended_item_ids, recommended_item_titles = recommend_items_by_item_id(item_id)\n",
        "\n",
        "selected_item = data[data['nid'] == item_id]['title'].values[0]\n",
        "\n",
        "print(f\"Title for ({item_id}): {selected_item}\\n\")\n",
        "\n",
        "print(f\"Recommended items for item ID {item_id}:\")\n",
        "for item_id, item_title in zip(recommended_item_ids, recommended_item_titles):\n",
        "    print(f\"Item ID: {item_id}, Title: {item_title}\")\n"
      ],
      "metadata": {
        "colab": {
          "base_uri": "https://localhost:8080/"
        },
        "id": "UgPJX8rfriRJ",
        "outputId": "bc1e2d33-bdac-416b-f571-b30eda17c30b"
      },
      "execution_count": 117,
      "outputs": [
        {
          "output_type": "stream",
          "name": "stdout",
          "text": [
            "Title for (191): 13 Python Package Populer untuk Analisis Time Series\n",
            "\n",
            "Recommended items for item ID 191:\n",
            "Item ID: 201, Title: Deteksi Stasioneritas Dalam Time Series\n",
            "Item ID: 190, Title: Analisis Time Series, Definisi, Pola dan Algoritma\n",
            "Item ID: 235, Title: Belajar PySpark - Select, Filter dan Where Pada DataFrame\n",
            "Item ID: 236, Title: Belajar Apache Spark Dengan Python : Mengenal DataFrame\n",
            "Item ID: 17, Title: local class incompatible: stream classdesc serialVersionUID = 2, local class serialVersionUID = 3\n",
            "Item ID: 263, Title: Inovasi Masa Depan: Ide Bisnis AI untuk Startup yang Menjanjikan\n",
            "Item ID: 238, Title: Belajar PySpark - Transformasi Dataframe dengan When-Otherwise\n"
          ]
        }
      ]
    },
    {
      "cell_type": "code",
      "source": [
        "item_id = 202\n",
        "recommended_item_ids, recommended_item_titles = recommend_items_by_item_id(item_id)\n",
        "\n",
        "selected_item = data[data['nid'] == item_id]['title'].values[0]\n",
        "\n",
        "print(f\"Title for ({item_id}): {selected_item}\\n\")\n",
        "\n",
        "print(f\"Recommended items for item ID {item_id}:\")\n",
        "for item_id, item_title in zip(recommended_item_ids, recommended_item_titles):\n",
        "    print(f\"Item ID: {item_id}, Title: {item_title}\")\n"
      ],
      "metadata": {
        "colab": {
          "base_uri": "https://localhost:8080/"
        },
        "id": "hFJTLMEDriJu",
        "outputId": "8412a39b-eb91-40bd-e5a3-6c45a045dadc"
      },
      "execution_count": 106,
      "outputs": [
        {
          "output_type": "stream",
          "name": "stdout",
          "text": [
            "Title for (202): Perjalanan Artificial Neural Network, Dari Perceptron ke Deep Learning\n",
            "\n",
            "Recommended items for item ID 202:\n",
            "Item ID: 12, Title: Mengenal Machine Learning\n",
            "Item ID: 69, Title: Mengenal Feature Selection dalam Machine Learning\n",
            "Item ID: 37, Title: Instalasi Apache Hive Pada Ubuntu\n",
            "Item ID: 13, Title: Instalasi Hadoop 3.2.2 pada Windows 10 WSL\n",
            "Item ID: 244, Title: 30 Tools Generative AI Tahun 2023\n",
            "Item ID: 212, Title: HGrid247 Data Engineering\n",
            "Item ID: 233, Title: Yuk Mengenal Apache Spark\n"
          ]
        }
      ]
    },
    {
      "cell_type": "code",
      "source": [
        "item_id = 212\n",
        "recommended_item_ids, recommended_item_titles = recommend_items_by_item_id(item_id)\n",
        "\n",
        "selected_item = data[data['nid'] == item_id]['title'].values[0]\n",
        "\n",
        "print(f\"Title for ({item_id}): {selected_item}\\n\")\n",
        "\n",
        "print(f\"Recommended items for item ID {item_id}:\")\n",
        "for item_id, item_title in zip(recommended_item_ids, recommended_item_titles):\n",
        "    print(f\"Item ID: {item_id}, Title: {item_title}\")\n"
      ],
      "metadata": {
        "colab": {
          "base_uri": "https://localhost:8080/"
        },
        "id": "804MVaCFsUnS",
        "outputId": "86cb7c48-5e69-4a01-b468-ffa02f26843f"
      },
      "execution_count": 107,
      "outputs": [
        {
          "output_type": "stream",
          "name": "stdout",
          "text": [
            "Title for (212): HGrid247 Data Engineering\n",
            "\n",
            "Recommended items for item ID 212:\n",
            "Item ID: 221, Title: Fitur Reverse Engineering pada HGrid247 DE\n",
            "Item ID: 233, Title: Yuk Mengenal Apache Spark\n",
            "Item ID: 63, Title: 21 Tahun Solusi247\n",
            "Item ID: 201, Title: Deteksi Stasioneritas Dalam Time Series\n",
            "Item ID: 12, Title: Mengenal Machine Learning\n",
            "Item ID: 190, Title: Analisis Time Series, Definisi, Pola dan Algoritma\n",
            "Item ID: 71, Title: Feature Selection Menggunakan Scikit-learn\n"
          ]
        }
      ]
    }
  ]
}